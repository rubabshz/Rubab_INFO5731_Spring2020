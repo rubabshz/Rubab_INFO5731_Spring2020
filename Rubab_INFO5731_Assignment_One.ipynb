{
  "nbformat": 4,
  "nbformat_minor": 0,
  "metadata": {
    "colab": {
      "name": "Rubab INFO5731_Assignment_One.ipynb",
      "provenance": [],
      "collapsed_sections": [],
      "include_colab_link": true
    },
    "kernelspec": {
      "display_name": "Python 3",
      "language": "python",
      "name": "python3"
    },
    "language_info": {
      "codemirror_mode": {
        "name": "ipython",
        "version": 3
      },
      "file_extension": ".py",
      "mimetype": "text/x-python",
      "name": "python",
      "nbconvert_exporter": "python",
      "pygments_lexer": "ipython3",
      "version": "3.7.4"
    }
  },
  "cells": [
    {
      "cell_type": "markdown",
      "metadata": {
        "id": "view-in-github",
        "colab_type": "text"
      },
      "source": [
        "<a href=\"https://colab.research.google.com/github/rubabshz/Rubab_INFO5731_Spring2020/blob/main/Rubab_INFO5731_Assignment_One.ipynb\" target=\"_parent\"><img src=\"https://colab.research.google.com/assets/colab-badge.svg\" alt=\"Open In Colab\"/></a>"
      ]
    },
    {
      "cell_type": "markdown",
      "metadata": {
        "id": "Ryk8D1Q4Wsrp"
      },
      "source": [
        "# **INFO5731 Assignment One**"
      ]
    },
    {
      "cell_type": "markdown",
      "metadata": {
        "id": "90_NR8c5XGWc"
      },
      "source": [
        "# Question 1\n",
        "\n",
        "(20 points). Write a Python program to generate 12 random numbers between 1 and 100. Sort the list of numbers in ascending order and print it out. Sort the list of numbers in descending order and print it out. Calculate the average for the group and print it out."
      ]
    },
    {
      "cell_type": "code",
      "metadata": {
        "id": "5QX6bJjGWXY9",
        "colab": {
          "base_uri": "https://localhost:8080/"
        },
        "outputId": "79869bf6-1182-434b-868a-1172f1d149f8"
      },
      "source": [
        "# Your code here\n",
        "from random import randrange\n",
        "rand = [ randrange(1,100) for i in range(12)]\n",
        "ascending = print(\"Ascending\" , sorted(rand))\n",
        "descending = print(\"Descending\" , sorted(rand, reverse = True))\n",
        "Average = round(sum(rand)/len(rand),2)\n",
        "print(\"Average: \" + str(Average))\n"
      ],
      "execution_count": 42,
      "outputs": [
        {
          "output_type": "stream",
          "text": [
            "Ascending [6, 9, 16, 43, 46, 60, 60, 71, 74, 76, 84, 98]\n",
            "Descending [98, 84, 76, 74, 71, 60, 60, 46, 43, 16, 9, 6]\n",
            "Average: 53.58\n"
          ],
          "name": "stdout"
        }
      ]
    },
    {
      "cell_type": "markdown",
      "metadata": {
        "id": "1F_PZdH9Sh49"
      },
      "source": [
        "# Question 2\n",
        "(25 points). Write a program that will do the following string formatting tasks:\n",
        "\n",
        "(1) Ask the user to enter two sentences.\n",
        "\n",
        "(2) Make each sentence into a list. Each element in the list should correspond to a word in the sentence. For example, if the sentence is \"Alas! Am I alive? This is my first python program\", the program should print out ['Alas, '!', 'Am', 'I', 'alive, '?', 'This', 'is', 'my', 'first', 'python', 'program'].\n",
        "\n",
        "(3) Compare the two sentences. Print out a list of words that occur in both sentences.\n",
        "\n",
        "(4) Remove any punctuation from the sentence and print it back out. It should remove at least the following characters, but it can remove more: period(“.”), comma (“,”), semicolon (“;”), and colon (“:”)\n",
        "\n",
        "(5) Count the number of vowels in the sentences. Print out each vowel and the number of times it appears in the sentences, such as: a:2, e:1, i:0, etc"
      ]
    },
    {
      "cell_type": "code",
      "metadata": {
        "id": "Y0oOSlsOS0cq",
        "colab": {
          "base_uri": "https://localhost:8080/"
        },
        "outputId": "d1ef676c-e99f-4b38-cc24-8d07e8bddbfe"
      },
      "source": [
        "# Your code here\n",
        "import string\n",
        "import math\n",
        "import collections\n",
        "\n",
        "#(1)\n",
        "sentence1 = input(\"Write a sentence please: \")\n",
        "sentence2 = input(\"Write another sentence please: \")\n",
        "\n",
        "print(\"Your first sentence is: \"+ sentence1)\n",
        "print(\"Your second sentence is: \"+ sentence2)\n",
        "\n",
        "#(2)\n",
        "sent1_list = sentence1.split()\n",
        "sent2_list = sentence2.split()\n",
        "print(sentence1.split())\n",
        "print(sentence2.split())\n",
        "\n",
        "#(3)\n",
        "repetitions = set(sent1_list) & set(sent2_list)\n",
        "print(\"Repetitions: \", repetitions) \n",
        "\n",
        "#(4)\n",
        "\n",
        "def removing_punct(sentence):\n",
        "  No_punct = \" \"\n",
        "  for i in sentence:\n",
        "     if i not in string.punctuation:\n",
        "       No_punct = No_punct + i\n",
        "  print(\"Your sentence without punctuations is: \", No_punct)\n",
        "\n",
        "removing_punct(sentence1)\n",
        "removing_punct(sentence2)\n",
        "\n",
        "#(5)\n",
        "vowels = \"aeiou\"\n",
        "\n",
        "print(\"\\nThe vowels in your first sentence: \")\n",
        "def find_vowels1(b):\n",
        " for b in vowels:\n",
        "     print(b, sentence1.lower().count(b))\n",
        "    \n",
        "find_vowels1(sentence1)\n",
        "\n",
        "print(\"The vowles in your second sentence: \")\n",
        "def find_vowels2(c):\n",
        " for c in vowels:\n",
        "     print(c, sentence2.lower().count(c))\n",
        "\n",
        "find_vowels2(sentence2)\n"
      ],
      "execution_count": 71,
      "outputs": [
        {
          "output_type": "stream",
          "text": [
            "Write a sentence please: Hello! This is my first program\n",
            "Write another sentence please: This is amazing\n",
            "Your first sentence is: Hello! This is my first program\n",
            "Your second sentence is: This is amazing\n",
            "['Hello!', 'This', 'is', 'my', 'first', 'program']\n",
            "['This', 'is', 'amazing']\n",
            "Repetitions:  {'This', 'is'}\n",
            "Your sentence without punctuations is:   Hello This is my first program\n",
            "Your sentence without punctuations is:   This is amazing\n",
            "\n",
            "The vowels in your first sentence: \n",
            "a 1\n",
            "e 1\n",
            "i 3\n",
            "o 2\n",
            "u 0\n",
            "The vowles in your second sentence: \n",
            "a 2\n",
            "e 0\n",
            "i 3\n",
            "o 0\n",
            "u 0\n"
          ],
          "name": "stdout"
        }
      ]
    },
    {
      "cell_type": "markdown",
      "metadata": {
        "id": "CmFoI4jDS9nx"
      },
      "source": [
        "# Question 3 \n",
        "\n",
        "(15 points). The formula that describes the volume V of a sphere with radius r is the following:\n",
        "\n",
        "$ V=\\frac{4}{3}\\ast\\ \\pi\\ast\\ r^3 $\n",
        "\n",
        "Write a program to calculate the value of V when r is in the range of 1–10. Output the result in the following format:\n",
        "\n",
        "\tr\tV\n",
        "\t1\t…\n",
        "\t2\t…\n",
        "\t3\t…\n"
      ]
    },
    {
      "cell_type": "code",
      "metadata": {
        "id": "pEyqeioAT95b",
        "colab": {
          "base_uri": "https://localhost:8080/"
        },
        "outputId": "6470a191-6210-4f04-83d9-8b52f81191b9"
      },
      "source": [
        "# Your code here\n",
        "import math\n",
        "def v_of_sphere(radius):\n",
        "    return (4/3)*math.pi*(radius*radius*radius)\n",
        "\n",
        "print(\"r \\t V\")\n",
        "r=1\n",
        "while r<=10:\n",
        "  print(r, \"\\t\", round(v_of_sphere(r)))\n",
        "  r = r+1\n",
        "\n",
        "   \n",
        "\n"
      ],
      "execution_count": 9,
      "outputs": [
        {
          "output_type": "stream",
          "text": [
            "r \t V\n",
            "1 \t 4\n",
            "2 \t 34\n",
            "3 \t 113\n",
            "4 \t 268\n",
            "5 \t 524\n",
            "6 \t 905\n",
            "7 \t 1437\n",
            "8 \t 2145\n",
            "9 \t 3054\n",
            "10 \t 4189\n"
          ],
          "name": "stdout"
        }
      ]
    },
    {
      "cell_type": "markdown",
      "metadata": {
        "id": "z3tBE7E-Xn5X"
      },
      "source": [
        "# Question 4\n",
        "\n",
        "(40 points). In the field of Data Science, data is often formatted as a comma-delimited (CSV) file, where each line in a file corresponds to a field's value. Refer to Chapter 9 (p. 106) for more information on comma-delimited files. To answer this question, you will need to download the file [Assignment1_denton_housing.csv](https://github.com/unt-iialab/info5731_spring2021/blob/main/assignment/Assignment1_denton_housing.csv) included with this assignment. The file [Assignment1_denton_housing.csv](https://github.com/unt-iialab/info5731_spring2021/blob/main/assignment/Assignment1_denton_housing.csv) contains statistics about housing in the city of Denton from 2008 to 2014. Write a program to implement the following questions.\n",
        "\n",
        "(1) (10 pts) Calculate the difference in the number of Occupied Housing Units from year to year and print it. The difference must be calculated for the consecutive years such as 2008-2009, 2009-2010 etc. Finally, print the values in the ascending order.\n",
        "\n",
        "(2) (10 pts) For all the years, calculate the percentage of housing units which are vacant an occupied. Print the results in the following format:\n",
        "\n",
        "Year Vacant Housing Units Occupied Housing Units\n",
        "\n",
        "    2008  30%   70%                          \n",
        "\t2009 ----- -----\n",
        "\t2010 ----- -----\n",
        "    2011 ----- -----\n",
        "\t2012 ----- -----\n",
        "    2013 ----- -----\n",
        "\t2014 ----- -----\n",
        "  \n",
        "  \n",
        "\n",
        "(3) (10 pts) Calculate and print the valued and years in which the highest number of housing units were vacant and occupied. Print the results in the following format:  \n",
        "\n",
        "                              Year\tValue\n",
        "\tVacant Housing Units\t  -----   -----\n",
        "\tOccupied Housing Units\t-----   -----\n",
        "\n",
        "(4) (10 pts) Calculate the harmonic mean of the total housing units and print it out. You can find the information about harmonic mean here: https://ncalculators.com/statistics/harmonic-mean-calculator.htm"
      ]
    },
    {
      "cell_type": "code",
      "metadata": {
        "id": "lqGYuHBhcsRH",
        "colab": {
          "base_uri": "https://localhost:8080/"
        },
        "outputId": "cd913a6e-ff7e-4a7f-8f4a-5642285b2381"
      },
      "source": [
        "# Your code here\n",
        "\n",
        "import csv\n",
        "units_dic = {} \n",
        "\n",
        "with open(\"/content/Assignment1_denton_housing.csv\",'r') as file:\n",
        "    file_reader = csv.reader(file)\n",
        "    \n",
        "    for entry in file_reader: \n",
        "        if entry[1] == \"Occupied Housing Units\": \n",
        "            units_dic[int(entry[0])] = int(entry[2])\n",
        "            \n",
        "units_diff= {} \n",
        "year = 2008 \n",
        "while year < 2014: \n",
        "    units_diff[units_dic[year+1]-units_dic[year]] =  str(year)+\"-\"+str(year+1)\n",
        "    year+=1 \n",
        "for i in units_diff:\n",
        "    print(\"From \", units_diff[i]+\":\",i)"
      ],
      "execution_count": 43,
      "outputs": [
        {
          "output_type": "stream",
          "text": [
            "From  2008-2009: -795\n",
            "From  2009-2010: 5091\n",
            "From  2010-2011: -303\n",
            "From  2011-2012: 1404\n",
            "From  2012-2013: 1565\n",
            "From  2013-2014: 2622\n"
          ],
          "name": "stdout"
        }
      ]
    },
    {
      "cell_type": "code",
      "metadata": {
        "colab": {
          "base_uri": "https://localhost:8080/"
        },
        "id": "jg8BBR9nlLVc",
        "outputId": "f0bbe76f-bdb2-4aac-c8f9-dc62dc540dbc"
      },
      "source": [
        "import csv\r\n",
        "total = {}\r\n",
        "occupied = {}\r\n",
        "vacant = {}\r\n",
        "\r\n",
        "with open(\"/content/Assignment1_denton_housing.csv\",'r') as file:\r\n",
        "    file_reader = csv.reader(file)\r\n",
        "    \r\n",
        "    for entry in file_reader: \r\n",
        "        if entry[1] == \"Occupied Housing Units\": \r\n",
        "            occupied[int(entry[0])] = int(entry[2])\r\n",
        "\r\n",
        "        elif entry[1] == \"Total Housing Units\":\r\n",
        "            total[int(entry[0])] = int(entry[2])\r\n",
        "\r\n",
        "        elif entry[1] == \"Vacant Housing Units\":\r\n",
        "            vacant[int(entry[0])] = int(entry[2])\r\n",
        "\r\n",
        "year = 2008 \r\n",
        "print(\"Year\\tVacant Housing Units\\tOccupied Housing Units\") \r\n",
        "while year <= 2014:\r\n",
        "    PercentVacant = (vacant[year]/total[year])*100\r\n",
        "    PercentOccupied = (occupied[year]/total[year])*100\r\n",
        "    print(str(year)+\"\\t\"+str(round(PercentVacant))+\"%\\t\\t\\t\"+str(round(PercentOccupied))+\"%\")\r\n",
        "    year+=1"
      ],
      "execution_count": 44,
      "outputs": [
        {
          "output_type": "stream",
          "text": [
            "Year\tVacant Housing Units\tOccupied Housing Units\n",
            "2008\t11%\t\t\t89%\n",
            "2009\t9%\t\t\t91%\n",
            "2010\t8%\t\t\t92%\n",
            "2011\t9%\t\t\t91%\n",
            "2012\t7%\t\t\t93%\n",
            "2013\t9%\t\t\t91%\n",
            "2014\t6%\t\t\t94%\n"
          ],
          "name": "stdout"
        }
      ]
    },
    {
      "cell_type": "code",
      "metadata": {
        "colab": {
          "base_uri": "https://localhost:8080/"
        },
        "id": "_8AGRfqJlQ04",
        "outputId": "b1057ce6-6e6e-42cd-9765-477d8fa8b799"
      },
      "source": [
        "import csv\r\n",
        "\r\n",
        "occupied = {}\r\n",
        "vacant = {}\r\n",
        "\r\n",
        "with open(\"/content/Assignment1_denton_housing.csv\",'r') as file:\r\n",
        "    file_reader = csv.reader(file)\r\n",
        "    \r\n",
        "    for entry in file_reader: \r\n",
        "        if entry[1] == \"Occupied Housing Units\": \r\n",
        "            occupied[int(entry[0])] = int(entry[2])\r\n",
        "\r\n",
        "        elif entry[1] == \"Vacant Housing Units\":\r\n",
        "            vacant[int(entry[0])] = int(entry[2])\r\n",
        "\r\n",
        "\r\n",
        "vacant_max = max(vacant.values()) # Determine the maximum vacant units\r\n",
        "occupied_max = max(occupied.values()) # Determine the maximum occupied units\r\n",
        "print(\"Description\\t\\tYear\\tValue\") # Print table headers\r\n",
        "for i in vacant.items():\r\n",
        "    if i[1] == vacant_max:\r\n",
        "        print(\"Vacant Housing Units\\t\"+str(i[0])+\"\\t\"+str(vacant_max))\r\n",
        "for i in occupied.items():\r\n",
        "    if i[1] == occupied_max:\r\n",
        "        print(\"Occupied Housing Units\\t\"+str(i[0])+\"\\t\"+str(occupied_max))"
      ],
      "execution_count": 48,
      "outputs": [
        {
          "output_type": "stream",
          "text": [
            "Description\t\tYear\tValue\n",
            "Vacant Housing Units\t2008\t4483\n",
            "Occupied Housing Units\t2014\t46295\n"
          ],
          "name": "stdout"
        }
      ]
    },
    {
      "cell_type": "code",
      "metadata": {
        "colab": {
          "base_uri": "https://localhost:8080/"
        },
        "id": "Y4OblyhElcIP",
        "outputId": "d1238c64-3929-4823-f3e1-56df677fa13c"
      },
      "source": [
        "def hMean(data):\r\n",
        "    count = 0\r\n",
        "    for n in data:\r\n",
        "        count += (1/n)\r\n",
        "    return round(len(data)/count,2)\r\n",
        "\r\n",
        "import csv\r\n",
        "total = [] \r\n",
        "with open(\"/content/Assignment1_denton_housing.csv\",'r') as file:\r\n",
        "    file_reader = csv.reader(file) \r\n",
        "    for entry in file_reader:\r\n",
        "      if entry[1] == \"Total Housing Units\":\r\n",
        "        total.append(int(entry[2]))\r\n",
        "\r\n",
        "print(\"The harmonic mean is \" + str(hMean(total)))"
      ],
      "execution_count": 54,
      "outputs": [
        {
          "output_type": "stream",
          "text": [
            "The harmonic mean is 44398.29\n"
          ],
          "name": "stdout"
        }
      ]
    }
  ]
}