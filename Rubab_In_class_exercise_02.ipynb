{
  "nbformat": 4,
  "nbformat_minor": 0,
  "metadata": {
    "colab": {
      "name": "Rubab In_class_exercise_02.ipynb",
      "provenance": [],
      "collapsed_sections": [],
      "include_colab_link": true
    },
    "kernelspec": {
      "display_name": "Python 3",
      "language": "python",
      "name": "python3"
    },
    "language_info": {
      "codemirror_mode": {
        "name": "ipython",
        "version": 3
      },
      "file_extension": ".py",
      "mimetype": "text/x-python",
      "name": "python",
      "nbconvert_exporter": "python",
      "pygments_lexer": "ipython3",
      "version": "3.7.4"
    }
  },
  "cells": [
    {
      "cell_type": "markdown",
      "metadata": {
        "id": "view-in-github",
        "colab_type": "text"
      },
      "source": [
        "<a href=\"https://colab.research.google.com/github/rubabshz/Rubab_INFO5731_Spring2020/blob/main/Rubab_In_class_exercise_02.ipynb\" target=\"_parent\"><img src=\"https://colab.research.google.com/assets/colab-badge.svg\" alt=\"Open In Colab\"/></a>"
      ]
    },
    {
      "cell_type": "markdown",
      "metadata": {
        "id": "oo5bsEh2eeWi"
      },
      "source": [
        "# **The second In-class-exercise (1/27/2021, 20 points in total)**\n"
      ]
    },
    {
      "cell_type": "markdown",
      "metadata": {
        "id": "2sPQ58dIeqgp"
      },
      "source": [
        "(1) Write a Python program to find the duplicate elements in a given array of integers. Return -1 If there are no such elements. (4 points)"
      ]
    },
    {
      "cell_type": "code",
      "metadata": {
        "id": "mnrvKMFTeoJR",
        "colab": {
          "base_uri": "https://localhost:8080/"
        },
        "outputId": "1ea68d28-2023-46db-9503-e6712a1c837c"
      },
      "source": [
        "# write your answer here:\n",
        "   \n",
        "def duplicate_element(an_array):\n",
        "\n",
        " arr_set = set()\n",
        " no_duplicates = -1\n",
        " x = len(an_array)\n",
        "\n",
        " for i in range(x):\n",
        "\n",
        "      if an_array[i] in arr_set:\n",
        "       return an_array[i]\n",
        "\n",
        "      else:\n",
        "       arr_set.add(an_array[i])\n",
        "\n",
        " return no_duplicates \n",
        "\n",
        "\n",
        "print(duplicate_element([1,2,3,3,4,5]))\n",
        "print(duplicate_element([1,2,3,4,5]))\n",
        " \n"
      ],
      "execution_count": 31,
      "outputs": [
        {
          "output_type": "stream",
          "text": [
            "3\n",
            "-1\n"
          ],
          "name": "stdout"
        }
      ]
    },
    {
      "cell_type": "markdown",
      "metadata": {
        "id": "YYrH6n6IhZoQ"
      },
      "source": [
        "(2) Write a Python program to select all the Sundays of a specified year. (4 points)\n",
        "\n"
      ]
    },
    {
      "cell_type": "code",
      "metadata": {
        "id": "OSfPLd23eLpX",
        "colab": {
          "base_uri": "https://localhost:8080/"
        },
        "outputId": "282c150f-55c9-471e-d6cf-f72a63db1a40"
      },
      "source": [
        "# write your answer here\n",
        "from datetime import date, timedelta\n",
        "\n",
        "def sundays(year):\n",
        "  cal_dt = date(year, 1, 1)      \n",
        "  cal_dt += timedelta(days = 7 - cal_dt.isoweekday())  \n",
        "  while cal_dt.year == year:\n",
        "    yield cal_dt\n",
        "    cal_dt += timedelta(days = 7)\n",
        "          \n",
        "for x in sundays(2000):\n",
        "   print(\"Sunday: \", x)\n",
        "\n"
      ],
      "execution_count": 141,
      "outputs": [
        {
          "output_type": "stream",
          "text": [
            "Sunday:  2000-01-02\n",
            "Sunday:  2000-01-09\n",
            "Sunday:  2000-01-16\n",
            "Sunday:  2000-01-23\n",
            "Sunday:  2000-01-30\n",
            "Sunday:  2000-02-06\n",
            "Sunday:  2000-02-13\n",
            "Sunday:  2000-02-20\n",
            "Sunday:  2000-02-27\n",
            "Sunday:  2000-03-05\n",
            "Sunday:  2000-03-12\n",
            "Sunday:  2000-03-19\n",
            "Sunday:  2000-03-26\n",
            "Sunday:  2000-04-02\n",
            "Sunday:  2000-04-09\n",
            "Sunday:  2000-04-16\n",
            "Sunday:  2000-04-23\n",
            "Sunday:  2000-04-30\n",
            "Sunday:  2000-05-07\n",
            "Sunday:  2000-05-14\n",
            "Sunday:  2000-05-21\n",
            "Sunday:  2000-05-28\n",
            "Sunday:  2000-06-04\n",
            "Sunday:  2000-06-11\n",
            "Sunday:  2000-06-18\n",
            "Sunday:  2000-06-25\n",
            "Sunday:  2000-07-02\n",
            "Sunday:  2000-07-09\n",
            "Sunday:  2000-07-16\n",
            "Sunday:  2000-07-23\n",
            "Sunday:  2000-07-30\n",
            "Sunday:  2000-08-06\n",
            "Sunday:  2000-08-13\n",
            "Sunday:  2000-08-20\n",
            "Sunday:  2000-08-27\n",
            "Sunday:  2000-09-03\n",
            "Sunday:  2000-09-10\n",
            "Sunday:  2000-09-17\n",
            "Sunday:  2000-09-24\n",
            "Sunday:  2000-10-01\n",
            "Sunday:  2000-10-08\n",
            "Sunday:  2000-10-15\n",
            "Sunday:  2000-10-22\n",
            "Sunday:  2000-10-29\n",
            "Sunday:  2000-11-05\n",
            "Sunday:  2000-11-12\n",
            "Sunday:  2000-11-19\n",
            "Sunday:  2000-11-26\n",
            "Sunday:  2000-12-03\n",
            "Sunday:  2000-12-10\n",
            "Sunday:  2000-12-17\n",
            "Sunday:  2000-12-24\n",
            "Sunday:  2000-12-31\n"
          ],
          "name": "stdout"
        }
      ]
    },
    {
      "cell_type": "markdown",
      "metadata": {
        "id": "UIpziZ6Sjie-"
      },
      "source": [
        "(3) Python files reading and writing. Download the “[exercise_02_data _collection.zip](https://github.com/unt-iialab/info5731_spring2021/blob/main/class_exercises/exercise_02_data_collection.zip)” to your local and un-zip it.\n",
        "\n",
        "*   Write a program to read all the txt files and save the sentences in all the files into one csv file with two columns, the first column is sentence id (txt file name+sentence line number), the second column is the sentence text content. (4 points)\n",
        "*   Remove all the punctuations from the sentences, save the processed sentences into a new column in the same csv file. (4 points)\n",
        "*   Ask the user to enter a word, return all the sentences that include this word, three kinds of information should be returned: sentence id, sentence text content, the count that user input word appear in the sentence. (4 points)\n",
        "\n"
      ]
    },
    {
      "cell_type": "code",
      "metadata": {
        "id": "f3CUsrWOj1Xy",
        "colab": {
          "base_uri": "https://localhost:8080/"
        },
        "outputId": "29b288ca-87e5-443f-e4fe-749b9368861b"
      },
      "source": [
        "# write your answer here\n",
        "\n",
        "import csv\n",
        "\n",
        "with open(\"output.csv\",\"w\") as o_File:\n",
        "    holder = csv.writer(o_File,delimiter=',')\n",
        "\n",
        "    i = 1\n",
        "    while i <= 100: \n",
        "\n",
        "        input_file = \"/content/\"+\"ARTHROTEC.\"+str(i)+\".txt\" \n",
        "        output_line = \"ARTHROTEC.\"+str(i)\n",
        "        i_File = open(input_file).read() \n",
        "        sentences = i_File.split('\\n') \n",
        "        for x in sentences: \n",
        "            if x == '':\n",
        "                sentences.remove(x) \n",
        "        for x in sentences: \n",
        "            sentence_num = output_line +\" \" +str(sentences.index(x)+1) \n",
        "\n",
        "            holder.writerow([sentence_num,x]) \n",
        "        i += 1\n",
        "\n",
        "###############################################################################\n",
        "\n",
        "import csv\n",
        "import re\n",
        "empList = [] \n",
        "with open(\"output.csv\",'r') as i_File:\n",
        "    file_reader = csv.reader(i_File) \n",
        "    for row in file_reader: \n",
        "        newline = re.sub(r\"[^a-zA-Z\\s\\']\",\"\",row[1]) \n",
        "        newline = re.sub(\"\\s\\s\",\" \",newline) \n",
        "        row.append(newline) \n",
        "        empList.append(row) \n",
        "with open(\"output.csv\",\"w\") as o_File:\n",
        "    file_writer = csv.writer(o_File,delimiter=',') \n",
        "    file_writer.writerows(empList) \n",
        "\n",
        "###############################################################################\n",
        "\n",
        "import csv\n",
        "import re\n",
        "user = input(\"Type a Word: \") \n",
        "with open(\"output.csv\",'r') as i_File:\n",
        "    file_reader = csv.reader(i_File) \n",
        "    for row in file_reader: \n",
        "        userEntry = \" \"+user+\" \"\n",
        "        if userEntry in row[2]:\n",
        "            result = re.findall(userEntry,row[2])\n",
        "            print(row[0],row[1],len(result))\n",
        "\n"
      ],
      "execution_count": 133,
      "outputs": [
        {
          "output_type": "stream",
          "text": [
            "Type a Word: pain\n",
            "ARTHROTEC.2 2 Did not seem to make a lot of difference to the pain it was supposed to be treating. 1\n",
            "ARTHROTEC.2 3 Stopped taking it after 13 days, prefer the pain in my forearms. 1\n",
            "ARTHROTEC.3 1 Constipation right from the start and in ladt 4 weeks extreme joint pain at night (just few hours after taking tablets). 1\n",
            "ARTHROTEC.3 6 Arthrotec was supposed to ease my pain not make it worse. 1\n",
            "ARTHROTEC.3 7 Have stopped taking and immediatedly muscle/joint pain eased and sleeping much better. 1\n",
            "ARTHROTEC.4 5 It did help with the pain I experience with the pinched nerve, but it is not worth it to me to continue. 1\n",
            "ARTHROTEC.6 2 After the second pill the same progression of symptoms only now the abdominal gas,cramps and pain would be with me all day. 1\n",
            "ARTHROTEC.6 4 The only good thing I can say about Arthrotec is that I did notice pain relief but I won't put up with the side effects on a daily basis since I spent a long time getting rid of a reflux problem in the past. 1\n",
            "ARTHROTEC.9 3 very painful joints - but with this tablet, the pain is much much reduced. 1\n",
            "ARTHROTEC.10 2 Brilliant, I have a new lease of life, i walk up & down steps properly, no longer sideways like a toddler, hip pain as gone other than if i jar it. 1\n",
            "ARTHROTEC.11 2 I have tried various pain meds for the shoulder and nothing worked. 1\n",
            "ARTHROTEC.11 3 I was skeptical when my doctor asked me to try Arthrotec but my pain is totally under control without any apparent side effects. 1\n",
            "ARTHROTEC.14 1 Initially, I experienced a slight, but noticeable difference in pain level: the pain was less severe. 2\n",
            "ARTHROTEC.15 3 Lately ankle swelling and lower tendon pain that was not experienced previously. 1\n",
            "ARTHROTEC.15 5 This medication helped get me back to work and achieve tolerable pain levels and mobility. 1\n",
            "ARTHROTEC.15 6 I stopped taking it for 4 days and the pain returned. 1\n",
            "ARTHROTEC.16 1 I was prescribed this drug because I had spent a whole night in complete agony; abdominal pain, lower back pain, all that I imagine labor pain to be, except I was not in labor. 3\n",
            "ARTHROTEC.16 2 Though the cause of my pain remains undetermined, the Arthrotec combined with Paracetamol pretty much eliminated the pain. 1\n",
            "ARTHROTEC.16 7 Although it alleviated the pain, I got up this morning with heavy vaginal bleeding even though my period ended last week. 1\n",
            "ARTHROTEC.16 8 I was relieved to read that this could be a side effect, as it means I probably don't have something serious, but I will have to be in some serious pain to risk bleeding from the vagina again. 1\n",
            "ARTHROTEC.17 1 just took the drug about 30 minutes ago and am now experiencing the worst abdominal pain ever, like mentstrual cramps/diarreah cramping combined. 1\n",
            "ARTHROTEC.18 7 recently pain has started to increase though, and not sure if I've overworked my back. 1\n",
            "ARTHROTEC.20 1 I was experiencing lower back pain & noticed my spouse had some arthrotec 50mg anti inflammatory pills left. 1\n",
            "ARTHROTEC.20 6 thank god i got the pill out my system, the pain stopped 10mins later but i am still menstrating. 1\n",
            "ARTHROTEC.21 1 Didn't have much pain relief, and within a few days of starting the meds I began having cramps and heavy vaginal bleeding. 1\n",
            "ARTHROTEC.22 2 I would rather have had a migraine than the pain I suffered after taking one of these pills. 1\n",
            "ARTHROTEC.23 3 Became tired,fatigue,shortness of breath from pain, dizzy,nausea, unconsolable. 1\n",
            "ARTHROTEC.25 1 nausea,extreme hunger,stomach pain, abdominal pain, vaginal bleeding,cramps. 2\n",
            "ARTHROTEC.25 4 after 4 days of suffering I'm stopping this nightmare and yes there was some improvement with the pain but is not worth to continue. 1\n",
            "ARTHROTEC.26 6 After trying several NSAIDs with side effects, I finally discovered arthrotec which relieved the pain and no side effects. 1\n",
            "ARTHROTEC.26 7 I usually take 1 or 2 a day and when the pain gets really bad increase it to 3 a day for one or two weeks. 1\n",
            "ARTHROTEC.27 3 I am in so much pain that I cannot sleep, nor can I take Advil for the pain as it is also an NSAID. 2\n",
            "ARTHROTEC.28 4 I will tolerate the pain before I would ever take this again. 1\n",
            "ARTHROTEC.29 2 While this helped some with the joint pain, I was unpleasantly surprised at the return of my period after 2 years. 1\n",
            "ARTHROTEC.30 12 Although this drug has helped with the pain, it is not worth the cost and hassle of bleeding constantly., 1\n",
            "ARTHROTEC.31 2 Helped with pain BUT side effects outweigh benefits. 1\n",
            "ARTHROTEC.32 1 the first pill i took it caused severe abdominal pain but after taking the first one it never did that again , but recently i've been feeling like my stomach is full and empty at the same time hard to explain but thats what it felt like , and also have been getting bruises allover my body due to this drug , other than that my back is back to normal now and i am back at work. 1\n",
            "ARTHROTEC.35 1 While this medicine did help with my pain, the side affects out-weigh the benefits. 1\n",
            "ARTHROTEC.35 5 This has been to date the only medicine to relieve my hip pain, but it's affecting my quality of life. 1\n",
            "ARTHROTEC.37 5 I would much rather put up with my debilitating chronic knee pain (waiting for surgery) than to ever take another pill. 1\n",
            "ARTHROTEC.38 1 Upset stomach, nausea, vomiting, abdominal pain, constipation to loose bowels, excessive hot flashes and night sweats, blurred vision, irritability, chest discomfort. 1\n",
            "ARTHROTEC.39 2 Natural cures are better; apple cidar vinegar can effectively cure arthritis and headaches; vitamin C crystals can help pain at high doses; the Gerson diet with no salt can cure migrains, Fibro etc see doctoryourself.com and 'just say no to drugs' (Nancy Reagan). 1\n",
            "ARTHROTEC.41 4 I've recently had this severe hip pain on both sides which the co codamol wasn't touching so I went back to the Dr He recommended this anti-inflamatory and as he said next stop would be cortozone injections I was willing to give it a try. 1\n",
            "ARTHROTEC.41 8 I've felt no discernible difference in the pain in my hips and the side effects simply aren't worth it so thats it for me and this drug. 1\n",
            "ARTHROTEC.48 3 Within one day I felt the pain lessen. 1\n",
            "ARTHROTEC.49 3 This intense, horrid pain lasted 1.5 hours. 1\n",
            "ARTHROTEC.50 5 Almost overnight was 100% pain free. 1\n",
            "ARTHROTEC.50 8 Took 5 years ago for shoulder pain and it worked as well. 1\n",
            "ARTHROTEC.52 1 Went to hospital for my Tmj pain because it was getting out of control. 1\n",
            "ARTHROTEC.53 1 From day one of taking this pill I have experienced a significant reduction of pain in both areas and no stiffness in my hands, where before had very little mobility in my right hand, I have however experienced extreme pain/heavy bleeding and dizziness during my period which is not normal for me. 1\n",
            "ARTHROTEC.58 3 I had been taking arthrotec before for my knee pain and it helped me a lot. 1\n",
            "ARTHROTEC.58 4 I only had 10-12 pills left from last March when I had a cortisone shot and my knee pain went away. 1\n",
            "ARTHROTEC.63 1 I have vaginal bleeding, my cycle was back (I'm menopausal ), breast pain, Other symptoms I have: erithema, my skin is so dry I have little cuts on my hands, I 'm sweating a lot (usually I don't), pruritus ani etc 1\n",
            "ARTHROTEC.64 1 i have experienced extreme stomach pain when taken on an empty stomach, and moderate stomach pain when taken with food. 2\n",
            "ARTHROTEC.64 3 arthrotec works very well for my knee pain, more so than mobic or celebrex. 1\n",
            "ARTHROTEC.64 4 however, i do experience stomach pain from time to time. 1\n",
            "ARTHROTEC.65 1 Severe, gut-renching abdominal pain, jaundins, diahrea, sweats & hot flashes, vaginal bleeding, and now constipation. 1\n",
            "ARTHROTEC.67 4 Relieved pain very well. 1\n",
            "ARTHROTEC.68 2 After 8 days, the feeling elevated to an annoying sharp pain in my stomach. 1\n",
            "ARTHROTEC.68 3 Then two days later, I had to stop using it because the pain was becoming unbearable. 1\n",
            "ARTHROTEC.68 5 Aside from the stomach pain, it worked miracle on my nighttime spinal pain. 1\n",
            "ARTHROTEC.69 3 Helps me walk & carry on a normal lifestyle because it eases the pain a lot. 1\n",
            "ARTHROTEC.75 2 It helped relieve the pain in my lower back but I would not recommend this to be used by women of any age. 1\n",
            "ARTHROTEC.78 1 Very very severe abdonimal pain, next day my stool was black which could indicate blood in my stool, going to doctor today. 1\n",
            "ARTHROTEC.79 6 Somewhat concerned about the long term effects and listed possible side effects, so I've only ever taken arthrotec 50 once daily rather than twice, which is just enough to manage my pain levels. 1\n",
            "ARTHROTEC.79 9 I dont think anything will completely remove the pain, and maybe shouldnt since it helps you to know whats going on. 1\n",
            "ARTHROTEC.80 1 abdominal pain, constant soreness in abdomen, headache, general stomach upset feeling that won't go away before or after eating. 1\n",
            "ARTHROTEC.82 1 I had diarrhea, severe abdominal pain which was constant for 4 hours straight, vomiting, trembling, dizziness, nausea. 1\n",
            "ARTHROTEC.82 2 Arthrotec seemed to induce my menstrual cramps and cause the pain to be severe. 1\n",
            "ARTHROTEC.85 5 Major stomach pain, massive gas cramps and bloating. 1\n",
            "ARTHROTEC.86 1 This medicine completely relieves my thumb pain, and really helps with my back pain. 1\n",
            "ARTHROTEC.87 3 Reduced coccyx pain but the cramps and bloating were very uncomfortable. 1\n",
            "ARTHROTEC.90 1 The pill eliminated all pain I felt in my hip, but it was hard on my stomach. 1\n",
            "ARTHROTEC.93 4 No day is pain free, though. 1\n",
            "ARTHROTEC.94 1 Experienced excruciating, unusual abdominal pain (bowel, uterine) and lower back pain for about 5 hours after taking (including diarrhea 6 times), and heart palpitations and vaginal bleeding for about a day after taking. 2\n",
            "ARTHROTEC.94 4 I will not take it again as the pain was extreme, but others should be cautious to take with lots of food and no aspirin. 1\n",
            "ARTHROTEC.96 2 I experienced extreme uterine cramping within 30 minutes of taking in the morning; I was in excruciating pain for an hour so I called an ambulance and was rushed to the emergency room. 1\n",
            "ARTHROTEC.97 2 They included fluid retention, all over muscle pain, cramps. 1\n",
            "ARTHROTEC.99 5 When I am on holiday at the coast I am pain free, mostly, so don't take any Arthrotec, but when I get back to a drier climate the pain is severe, so Arthrotec is very important to me and my quality of life. 2\n",
            "ARTHROTEC.100 7 helped my pain alot . 1\n"
          ],
          "name": "stdout"
        }
      ]
    },
    {
      "cell_type": "markdown",
      "metadata": {
        "id": "-12cqmJEpZOh"
      },
      "source": [
        "(4) Install packages nltk, numpy, scipy, pandas, and sklearn on Google Colab. Write a program to test whether they are installed successfully. (3 points for extra)"
      ]
    },
    {
      "cell_type": "code",
      "metadata": {
        "id": "f1pn1Zl2qK77",
        "colab": {
          "base_uri": "https://localhost:8080/"
        },
        "outputId": "b73c6b1a-1790-4acd-b749-e72abb7788cf"
      },
      "source": [
        "# NLTK\n",
        "\n",
        "! pip install nltk\n",
        "from nltk.tokenize import wordpunct_tokenize\n",
        "\n",
        "word_sentence = \"I am working on the in-class exercise number two!\"\n",
        "print(wordpunct_tokenize(word_sentence))  \n",
        "\n"
      ],
      "execution_count": 117,
      "outputs": [
        {
          "output_type": "stream",
          "text": [
            "Requirement already satisfied: nltk in /usr/local/lib/python3.6/dist-packages (3.2.5)\n",
            "Requirement already satisfied: six in /usr/local/lib/python3.6/dist-packages (from nltk) (1.15.0)\n",
            "['I', 'am', 'working', 'on', 'the', 'in', '-', 'class', 'exercise', 'number', 'two', '!']\n"
          ],
          "name": "stdout"
        }
      ]
    },
    {
      "cell_type": "code",
      "metadata": {
        "colab": {
          "base_uri": "https://localhost:8080/"
        },
        "id": "X5AzvizrXOSC",
        "outputId": "29a40d84-69aa-4867-cbcc-66ae5505c761"
      },
      "source": [
        "# Numpy\r\n",
        "! pip install Numpy\r\n",
        "import numpy as np\r\n",
        "arr = np.array([[1,2],[3,4]])\r\n",
        "print(arr.shape)\r\n",
        "\r\n",
        " \r\n"
      ],
      "execution_count": 134,
      "outputs": [
        {
          "output_type": "stream",
          "text": [
            "Requirement already satisfied: Numpy in /usr/local/lib/python3.6/dist-packages (1.19.5)\n",
            "(2, 2)\n"
          ],
          "name": "stdout"
        }
      ]
    },
    {
      "cell_type": "code",
      "metadata": {
        "colab": {
          "base_uri": "https://localhost:8080/"
        },
        "id": "y2VARpsNXTAU",
        "outputId": "edb97d09-e7c7-4a44-c17e-7123f8269580"
      },
      "source": [
        "#Scipy\r\n",
        "! pip install Scipy\r\n",
        "\r\n",
        "from scipy import stats\r\n",
        "import numpy as np\r\n",
        "x = np.array([1,2,3,4,5,6,7,8,9])\r\n",
        "max = x.max()\r\n",
        "min = x.min()\r\n",
        "mean = x.mean()\r\n",
        "var = x.var() \r\n",
        "print (max,min,mean,var)\r\n",
        "\r\n",
        "\r\n"
      ],
      "execution_count": 135,
      "outputs": [
        {
          "output_type": "stream",
          "text": [
            "Requirement already satisfied: Scipy in /usr/local/lib/python3.6/dist-packages (1.4.1)\n",
            "Requirement already satisfied: numpy>=1.13.3 in /usr/local/lib/python3.6/dist-packages (from Scipy) (1.19.5)\n",
            "9 1 5.0 6.666666666666667\n"
          ],
          "name": "stdout"
        }
      ]
    },
    {
      "cell_type": "code",
      "metadata": {
        "colab": {
          "base_uri": "https://localhost:8080/"
        },
        "id": "1L5xXVdCXTpM",
        "outputId": "b1f2ef18-71cf-47b2-c853-f8835c3e9273"
      },
      "source": [
        "#Pandas\r\n",
        "! pip install Pandas\r\n",
        "import pandas as pd\r\n",
        "\r\n",
        "data = pd.Series([0.01,0.02,0.03,0.04])\r\n",
        "print(data)\r\n"
      ],
      "execution_count": 136,
      "outputs": [
        {
          "output_type": "stream",
          "text": [
            "Requirement already satisfied: Pandas in /usr/local/lib/python3.6/dist-packages (1.1.5)\n",
            "Requirement already satisfied: pytz>=2017.2 in /usr/local/lib/python3.6/dist-packages (from Pandas) (2018.9)\n",
            "Requirement already satisfied: numpy>=1.15.4 in /usr/local/lib/python3.6/dist-packages (from Pandas) (1.19.5)\n",
            "Requirement already satisfied: python-dateutil>=2.7.3 in /usr/local/lib/python3.6/dist-packages (from Pandas) (2.8.1)\n",
            "Requirement already satisfied: six>=1.5 in /usr/local/lib/python3.6/dist-packages (from python-dateutil>=2.7.3->Pandas) (1.15.0)\n",
            "0    0.01\n",
            "1    0.02\n",
            "2    0.03\n",
            "3    0.04\n",
            "dtype: float64\n"
          ],
          "name": "stdout"
        }
      ]
    },
    {
      "cell_type": "code",
      "metadata": {
        "colab": {
          "base_uri": "https://localhost:8080/"
        },
        "id": "SFtjFn1zXT2z",
        "outputId": "43726b27-cbc0-44eb-8ecf-f9a5554c5d25"
      },
      "source": [
        "#Sklearn\r\n",
        "! pip install Sklearn\r\n",
        "from sklearn import datasets\r\n",
        "\r\n",
        "x = datasets.load_iris()\r\n",
        "y = datasets.load_digits()\r\n",
        "while x != 0:\r\n",
        " print((y.data)**2)\r\n",
        " break\r\n"
      ],
      "execution_count": 137,
      "outputs": [
        {
          "output_type": "stream",
          "text": [
            "Requirement already satisfied: Sklearn in /usr/local/lib/python3.6/dist-packages (0.0)\n",
            "Requirement already satisfied: scikit-learn in /usr/local/lib/python3.6/dist-packages (from Sklearn) (0.22.2.post1)\n",
            "Requirement already satisfied: scipy>=0.17.0 in /usr/local/lib/python3.6/dist-packages (from scikit-learn->Sklearn) (1.4.1)\n",
            "Requirement already satisfied: numpy>=1.11.0 in /usr/local/lib/python3.6/dist-packages (from scikit-learn->Sklearn) (1.19.5)\n",
            "Requirement already satisfied: joblib>=0.11 in /usr/local/lib/python3.6/dist-packages (from scikit-learn->Sklearn) (1.0.0)\n",
            "[[  0.   0.  25. ...   0.   0.   0.]\n",
            " [  0.   0.   0. ... 100.   0.   0.]\n",
            " [  0.   0.   0. ... 256.  81.   0.]\n",
            " ...\n",
            " [  0.   0.   1. ...  36.   0.   0.]\n",
            " [  0.   0.   4. ... 144.   0.   0.]\n",
            " [  0.   0. 100. ... 144.   1.   0.]]\n"
          ],
          "name": "stdout"
        }
      ]
    }
  ]
}