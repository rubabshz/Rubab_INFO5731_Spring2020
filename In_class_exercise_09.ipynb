{
  "nbformat": 4,
  "nbformat_minor": 0,
  "metadata": {
    "kernelspec": {
      "display_name": "Python 3",
      "language": "python",
      "name": "python3"
    },
    "language_info": {
      "codemirror_mode": {
        "name": "ipython",
        "version": 3
      },
      "file_extension": ".py",
      "mimetype": "text/x-python",
      "name": "python",
      "nbconvert_exporter": "python",
      "pygments_lexer": "ipython3",
      "version": "3.8.5"
    },
    "colab": {
      "name": "In_class_exercise_09.ipynb",
      "provenance": [],
      "include_colab_link": true
    }
  },
  "cells": [
    {
      "cell_type": "markdown",
      "metadata": {
        "id": "view-in-github",
        "colab_type": "text"
      },
      "source": [
        "<a href=\"https://colab.research.google.com/github/rubabshz/Rubab_INFO5731_Spring2020/blob/main/In_class_exercise_09.ipynb\" target=\"_parent\"><img src=\"https://colab.research.google.com/assets/colab-badge.svg\" alt=\"Open In Colab\"/></a>"
      ]
    },
    {
      "cell_type": "markdown",
      "metadata": {
        "id": "UDcxabgO6PKY"
      },
      "source": [
        "# **The ninth in-class-exercise (20 points in total, 4/16/2021)**"
      ]
    },
    {
      "cell_type": "markdown",
      "metadata": {
        "id": "lY5g0TUj6PKd"
      },
      "source": [
        "The purpose of the exercise is to practice different machine learning algorithms for text classification as well as the performance evaluation. In addition, you are requried to conduct *10 fold cross validation (https://scikit-learn.org/stable/modules/cross_validation.html)* in the training. \n",
        "\n",
        "The dataset can be download from here: https://github.com/unt-iialab/info5731_spring2021/blob/main/class_exercises/exercise09_datacollection.zip. The dataset contains two files train data and test data for sentiment analysis in IMDB review, it has two categories: 1 represents positive and 0 represents negative. You need to split the training data into training and validate data (80% for training and 20% for validation, https://towardsdatascience.com/train-test-split-and-cross-validation-in-python-80b61beca4b6) and perform 10 fold cross validation while training the classifier. The final trained model was final evaluated on the test data. \n",
        "\n",
        "Algorithms:\n",
        "\n",
        "(1) MultinominalNB\n",
        "\n",
        "(2) SVM \n",
        "\n",
        "(3) KNN \n",
        "\n",
        "(4) Decision tree\n",
        "\n",
        "(5) Random Forest\n",
        "\n",
        "(6) XGBoost\n",
        "\n",
        "Evaluation measurement:\n",
        "\n",
        "(1) Accuracy\n",
        "\n",
        "(2) Recall\n",
        "\n",
        "(3) Precison \n",
        "\n",
        "(4) F-1 score"
      ]
    },
    {
      "cell_type": "code",
      "metadata": {
        "id": "ZPAfwaZWAH2i"
      },
      "source": [
        "import pandas as pd"
      ],
      "execution_count": 5,
      "outputs": []
    },
    {
      "cell_type": "code",
      "metadata": {
        "id": "JDVN0gZx6PKg"
      },
      "source": [
        "#Reading and Training Dataset\n",
        "\n",
        "data = open('/content/stsa-train.txt').read()\n",
        "labels, text = [], []\n",
        "for i, line in enumerate(data.split(\"\\n\")):\n",
        "    content = line.split(' ')\n",
        "    labels.append(content[0])\n",
        "    text.append(\" \".join(content[1:]))\n"
      ],
      "execution_count": 1,
      "outputs": []
    },
    {
      "cell_type": "code",
      "metadata": {
        "id": "uGNO5n06_v1K"
      },
      "source": [
        "#Reading and Formatting Testing Dataset\n",
        "\n",
        "testing_data = open('/content/stsa-test.txt').read()\n",
        "test_labels, test_text = [], []\n",
        "for i, line in enumerate(testing_data.split(\"\\n\")):\n",
        "    content = line.split(' ')\n",
        "    test_labels.append(content[0])\n",
        "    test_text.append(\" \".join(content[1:]))"
      ],
      "execution_count": 2,
      "outputs": []
    },
    {
      "cell_type": "code",
      "metadata": {
        "id": "bQpbkqL1_vxN"
      },
      "source": [
        "#Dataframe\n",
        "df = pd.DataFrame (list(zip(text, labels)) , columns = ['Raw Text', 'Labels'])\n",
        "test_df = pd.DataFrame (list(zip(test_text, test_labels)) , columns = ['Raw Text', 'Labels'])\n",
        "test_df = test_df.dropna()"
      ],
      "execution_count": 6,
      "outputs": []
    },
    {
      "cell_type": "code",
      "metadata": {
        "colab": {
          "base_uri": "https://localhost:8080/"
        },
        "id": "wgYqvYhJ_vuN",
        "outputId": "33db32d3-8cb6-4ba1-ea27-c9a9b16fcc41"
      },
      "source": [
        "import nltk\n",
        "nltk.download()"
      ],
      "execution_count": 7,
      "outputs": [
        {
          "output_type": "stream",
          "text": [
            "NLTK Downloader\n",
            "---------------------------------------------------------------------------\n",
            "    d) Download   l) List    u) Update   c) Config   h) Help   q) Quit\n",
            "---------------------------------------------------------------------------\n",
            "Downloader> d\n",
            "\n",
            "Download which package (l=list; x=cancel)?\n",
            "  Identifier> all\n",
            "    Downloading collection 'all'\n",
            "       | \n",
            "       | Downloading package abc to /root/nltk_data...\n",
            "       |   Unzipping corpora/abc.zip.\n",
            "       | Downloading package alpino to /root/nltk_data...\n",
            "       |   Unzipping corpora/alpino.zip.\n",
            "       | Downloading package biocreative_ppi to /root/nltk_data...\n",
            "       |   Unzipping corpora/biocreative_ppi.zip.\n",
            "       | Downloading package brown to /root/nltk_data...\n",
            "       |   Unzipping corpora/brown.zip.\n",
            "       | Downloading package brown_tei to /root/nltk_data...\n",
            "       |   Unzipping corpora/brown_tei.zip.\n",
            "       | Downloading package cess_cat to /root/nltk_data...\n",
            "       |   Unzipping corpora/cess_cat.zip.\n",
            "       | Downloading package cess_esp to /root/nltk_data...\n",
            "       |   Unzipping corpora/cess_esp.zip.\n",
            "       | Downloading package chat80 to /root/nltk_data...\n",
            "       |   Unzipping corpora/chat80.zip.\n",
            "       | Downloading package city_database to /root/nltk_data...\n",
            "       |   Unzipping corpora/city_database.zip.\n",
            "       | Downloading package cmudict to /root/nltk_data...\n",
            "       |   Unzipping corpora/cmudict.zip.\n",
            "       | Downloading package comparative_sentences to\n",
            "       |     /root/nltk_data...\n",
            "       |   Unzipping corpora/comparative_sentences.zip.\n",
            "       | Downloading package comtrans to /root/nltk_data...\n",
            "       | Downloading package conll2000 to /root/nltk_data...\n",
            "       |   Unzipping corpora/conll2000.zip.\n",
            "       | Downloading package conll2002 to /root/nltk_data...\n",
            "       |   Unzipping corpora/conll2002.zip.\n",
            "       | Downloading package conll2007 to /root/nltk_data...\n",
            "       | Downloading package crubadan to /root/nltk_data...\n",
            "       |   Unzipping corpora/crubadan.zip.\n",
            "       | Downloading package dependency_treebank to /root/nltk_data...\n",
            "       |   Unzipping corpora/dependency_treebank.zip.\n",
            "       | Downloading package dolch to /root/nltk_data...\n",
            "       |   Unzipping corpora/dolch.zip.\n",
            "       | Downloading package europarl_raw to /root/nltk_data...\n",
            "       |   Unzipping corpora/europarl_raw.zip.\n",
            "       | Downloading package floresta to /root/nltk_data...\n",
            "       |   Unzipping corpora/floresta.zip.\n",
            "       | Downloading package framenet_v15 to /root/nltk_data...\n",
            "       |   Unzipping corpora/framenet_v15.zip.\n",
            "       | Downloading package framenet_v17 to /root/nltk_data...\n",
            "       |   Unzipping corpora/framenet_v17.zip.\n",
            "       | Downloading package gazetteers to /root/nltk_data...\n",
            "       |   Unzipping corpora/gazetteers.zip.\n",
            "       | Downloading package genesis to /root/nltk_data...\n",
            "       |   Unzipping corpora/genesis.zip.\n",
            "       | Downloading package gutenberg to /root/nltk_data...\n",
            "       |   Unzipping corpora/gutenberg.zip.\n",
            "       | Downloading package ieer to /root/nltk_data...\n",
            "       |   Unzipping corpora/ieer.zip.\n",
            "       | Downloading package inaugural to /root/nltk_data...\n",
            "       |   Unzipping corpora/inaugural.zip.\n",
            "       | Downloading package indian to /root/nltk_data...\n",
            "       |   Unzipping corpora/indian.zip.\n",
            "       | Downloading package jeita to /root/nltk_data...\n",
            "       | Downloading package kimmo to /root/nltk_data...\n",
            "       |   Unzipping corpora/kimmo.zip.\n",
            "       | Downloading package knbc to /root/nltk_data...\n",
            "       | Downloading package lin_thesaurus to /root/nltk_data...\n",
            "       |   Unzipping corpora/lin_thesaurus.zip.\n",
            "       | Downloading package mac_morpho to /root/nltk_data...\n",
            "       |   Unzipping corpora/mac_morpho.zip.\n",
            "       | Downloading package machado to /root/nltk_data...\n",
            "       | Downloading package masc_tagged to /root/nltk_data...\n",
            "       | Downloading package moses_sample to /root/nltk_data...\n",
            "       |   Unzipping models/moses_sample.zip.\n",
            "       | Downloading package movie_reviews to /root/nltk_data...\n",
            "       |   Unzipping corpora/movie_reviews.zip.\n",
            "       | Downloading package names to /root/nltk_data...\n",
            "       |   Unzipping corpora/names.zip.\n",
            "       | Downloading package nombank.1.0 to /root/nltk_data...\n",
            "       | Downloading package nps_chat to /root/nltk_data...\n",
            "       |   Unzipping corpora/nps_chat.zip.\n",
            "       | Downloading package omw to /root/nltk_data...\n",
            "       |   Unzipping corpora/omw.zip.\n",
            "       | Downloading package opinion_lexicon to /root/nltk_data...\n",
            "       |   Unzipping corpora/opinion_lexicon.zip.\n",
            "       | Downloading package paradigms to /root/nltk_data...\n",
            "       |   Unzipping corpora/paradigms.zip.\n",
            "       | Downloading package pil to /root/nltk_data...\n",
            "       |   Unzipping corpora/pil.zip.\n",
            "       | Downloading package pl196x to /root/nltk_data...\n",
            "       |   Unzipping corpora/pl196x.zip.\n",
            "       | Downloading package ppattach to /root/nltk_data...\n",
            "       |   Unzipping corpora/ppattach.zip.\n",
            "       | Downloading package problem_reports to /root/nltk_data...\n",
            "       |   Unzipping corpora/problem_reports.zip.\n",
            "       | Downloading package propbank to /root/nltk_data...\n",
            "       | Downloading package ptb to /root/nltk_data...\n",
            "       |   Unzipping corpora/ptb.zip.\n",
            "       | Downloading package product_reviews_1 to /root/nltk_data...\n",
            "       |   Unzipping corpora/product_reviews_1.zip.\n",
            "       | Downloading package product_reviews_2 to /root/nltk_data...\n",
            "       |   Unzipping corpora/product_reviews_2.zip.\n",
            "       | Downloading package pros_cons to /root/nltk_data...\n",
            "       |   Unzipping corpora/pros_cons.zip.\n",
            "       | Downloading package qc to /root/nltk_data...\n",
            "       |   Unzipping corpora/qc.zip.\n",
            "       | Downloading package reuters to /root/nltk_data...\n",
            "       | Downloading package rte to /root/nltk_data...\n",
            "       |   Unzipping corpora/rte.zip.\n",
            "       | Downloading package semcor to /root/nltk_data...\n",
            "       | Downloading package senseval to /root/nltk_data...\n",
            "       |   Unzipping corpora/senseval.zip.\n",
            "       | Downloading package sentiwordnet to /root/nltk_data...\n",
            "       |   Unzipping corpora/sentiwordnet.zip.\n",
            "       | Downloading package sentence_polarity to /root/nltk_data...\n",
            "       |   Unzipping corpora/sentence_polarity.zip.\n",
            "       | Downloading package shakespeare to /root/nltk_data...\n",
            "       |   Unzipping corpora/shakespeare.zip.\n",
            "       | Downloading package sinica_treebank to /root/nltk_data...\n",
            "       |   Unzipping corpora/sinica_treebank.zip.\n",
            "       | Downloading package smultron to /root/nltk_data...\n",
            "       |   Unzipping corpora/smultron.zip.\n",
            "       | Downloading package state_union to /root/nltk_data...\n",
            "       |   Unzipping corpora/state_union.zip.\n",
            "       | Downloading package stopwords to /root/nltk_data...\n",
            "       |   Unzipping corpora/stopwords.zip.\n",
            "       | Downloading package subjectivity to /root/nltk_data...\n",
            "       |   Unzipping corpora/subjectivity.zip.\n",
            "       | Downloading package swadesh to /root/nltk_data...\n",
            "       |   Unzipping corpora/swadesh.zip.\n",
            "       | Downloading package switchboard to /root/nltk_data...\n",
            "       |   Unzipping corpora/switchboard.zip.\n",
            "       | Downloading package timit to /root/nltk_data...\n",
            "       |   Unzipping corpora/timit.zip.\n",
            "       | Downloading package toolbox to /root/nltk_data...\n",
            "       |   Unzipping corpora/toolbox.zip.\n",
            "       | Downloading package treebank to /root/nltk_data...\n",
            "       |   Unzipping corpora/treebank.zip.\n",
            "       | Downloading package twitter_samples to /root/nltk_data...\n",
            "       |   Unzipping corpora/twitter_samples.zip.\n",
            "       | Downloading package udhr to /root/nltk_data...\n",
            "       |   Unzipping corpora/udhr.zip.\n",
            "       | Downloading package udhr2 to /root/nltk_data...\n",
            "       |   Unzipping corpora/udhr2.zip.\n",
            "       | Downloading package unicode_samples to /root/nltk_data...\n",
            "       |   Unzipping corpora/unicode_samples.zip.\n",
            "       | Downloading package universal_treebanks_v20 to\n",
            "       |     /root/nltk_data...\n",
            "       | Downloading package verbnet to /root/nltk_data...\n",
            "       |   Unzipping corpora/verbnet.zip.\n",
            "       | Downloading package verbnet3 to /root/nltk_data...\n",
            "       |   Unzipping corpora/verbnet3.zip.\n",
            "       | Downloading package webtext to /root/nltk_data...\n",
            "       |   Unzipping corpora/webtext.zip.\n",
            "       | Downloading package wordnet to /root/nltk_data...\n",
            "       | Error downloading 'wordnet' from\n",
            "       |     <https://raw.githubusercontent.com/nltk/nltk_data/gh-\n",
            "       |     pages/packages/corpora/wordnet.zip>:   [Errno 104]\n",
            "       |     Connection reset by peer\n",
            "\n",
            "---------------------------------------------------------------------------\n",
            "    d) Download   l) List    u) Update   c) Config   h) Help   q) Quit\n",
            "---------------------------------------------------------------------------\n",
            "Downloader> q\n"
          ],
          "name": "stdout"
        },
        {
          "output_type": "execute_result",
          "data": {
            "text/plain": [
              "True"
            ]
          },
          "metadata": {
            "tags": []
          },
          "execution_count": 7
        }
      ]
    },
    {
      "cell_type": "code",
      "metadata": {
        "colab": {
          "base_uri": "https://localhost:8080/"
        },
        "id": "8pUjQz4r_voP",
        "outputId": "0bb10001-5c80-4299-e4b5-87a1d0295323"
      },
      "source": [
        "#Data Cleaning\n",
        "import re\n",
        "import nltk\n",
        "from nltk.corpus import stopwords\n",
        "from textblob import TextBlob\n",
        "from nltk.stem import PorterStemmer\n",
        "from textblob import Word\n",
        "nltk.download('wordnet')\n",
        "st = PorterStemmer()\n",
        "nltk.download('punkt')\n",
        "stop = stopwords.words('english')\n",
        "df['Lower Case'] = df['Raw Text'].apply(lambda x: \" \".join(x.lower() for x in x.split()))\n",
        "df['Removal of Punctuation'] = df['Lower Case'].str.replace('[^\\w\\s]','')\n",
        "df['Removal of Special Characters'] = df['Removal of Punctuation'].apply(lambda x: ''.join(re.sub(r\"[^a-zA-Z0-9]+\", ' ', charctr) for charctr in x ))\n",
        "df['Stopwords Removal'] = df['Removal of Punctuation'].apply(lambda x: \" \".join(x for x in x.split() if x not in stop))\n",
        "df['Tokenization'] = df['Stopwords Removal'].apply(lambda x: TextBlob(x).words)\n",
        "df['After Lemmatization'] = df['Tokenization'].apply(lambda x: \" \".join([Word(word).lemmatize() for word in x]))"
      ],
      "execution_count": 8,
      "outputs": [
        {
          "output_type": "stream",
          "text": [
            "[nltk_data] Downloading package wordnet to /root/nltk_data...\n",
            "[nltk_data]   Unzipping corpora/wordnet.zip.\n",
            "[nltk_data] Downloading package punkt to /root/nltk_data...\n",
            "[nltk_data]   Unzipping tokenizers/punkt.zip.\n"
          ],
          "name": "stdout"
        }
      ]
    },
    {
      "cell_type": "code",
      "metadata": {
        "id": "GcO5ontz_vjz"
      },
      "source": [
        "test_df['Lower Case'] = test_df['Raw Text'].apply(lambda x: \" \".join(x.lower() for x in x.split()))\n",
        "test_df['Removal of Punctuation'] = test_df['Lower Case'].str.replace('[^\\w\\s]','')\n",
        "test_df['Removal of Special Characters'] = test_df['Removal of Punctuation'].apply(lambda x: ''.join(re.sub(r\"[^a-zA-Z0-9]+\", ' ', charctr) for charctr in x ))\n",
        "test_df['Stopwords Removal'] = test_df['Removal of Punctuation'].apply(lambda x: \" \".join(x for x in x.split() if x not in stop))\n",
        "test_df['Tokenization'] = test_df['Stopwords Removal'].apply(lambda x: TextBlob(x).words)\n",
        "test_df['After Lemmatization'] = test_df['Tokenization'].apply(lambda x: \" \".join([Word(word).lemmatize() for word in x]))"
      ],
      "execution_count": 9,
      "outputs": []
    },
    {
      "cell_type": "code",
      "metadata": {
        "id": "Scc9Y8tH_vhy"
      },
      "source": [
        "#Data Transformation\n",
        "from sklearn import model_selection, preprocessing, naive_bayes, metrics, svm\n",
        "from sklearn.feature_extraction.text import TfidfVectorizer\n",
        "tfidf_vect = TfidfVectorizer(analyzer='word')\n",
        "tfidf_vect.fit(df['After Lemmatization'])\n",
        "x_tfidf =  tfidf_vect.transform(df['After Lemmatization'])"
      ],
      "execution_count": 12,
      "outputs": []
    },
    {
      "cell_type": "code",
      "metadata": {
        "id": "HTJCICfs_vbI"
      },
      "source": [
        "vect_test = TfidfVectorizer(analyzer='word', vocabulary = tfidf_vect.vocabulary_)\n",
        "vect_test.fit(test_df['After Lemmatization'])\n",
        "xtest = vect_test.transform(test_df['After Lemmatization'])\n",
        "test_y = test_df['Labels']"
      ],
      "execution_count": 13,
      "outputs": []
    },
    {
      "cell_type": "code",
      "metadata": {
        "id": "enmOiPxj_vUq"
      },
      "source": [
        "#Splitting Data into Training and Testing Data\n",
        "\n",
        "from sklearn import model_selection, preprocessing, naive_bayes, metrics, svm\n",
        "train_x, valid_x, train_y, valid_y = model_selection.train_test_split(x_tfidf, df['Labels'].values,test_size=0.2)"
      ],
      "execution_count": 14,
      "outputs": []
    },
    {
      "cell_type": "code",
      "metadata": {
        "id": "WP6w37Ns_vNC"
      },
      "source": [
        "from sklearn import metrics\n",
        "def get_metrics(predictions, test_data_y):\n",
        "  accuracy = metrics.accuracy_score(predictions, test_data_y)\n",
        "  precision = metrics.precision_score(predictions, test_data_y, pos_label='positive', average='micro')\n",
        "  recall = metrics.recall_score(predictions, test_data_y, pos_label='positive', average='micro')\n",
        "  f1 = metrics.f1_score(predictions, test_data_y, pos_label='positive', average='micro')\n",
        "  return accuracy, precision, recall, f1"
      ],
      "execution_count": 15,
      "outputs": []
    },
    {
      "cell_type": "code",
      "metadata": {
        "id": "0nUWlA4S_vC8"
      },
      "source": [
        "import numpy as np\n",
        "from sklearn.model_selection import cross_val_score, KFold\n",
        "def cross_validation_score(modelName, x, y):\n",
        "  scoring = 'accuracy'\n",
        "  kfold = KFold(10, random_state = 7,shuffle=True)\n",
        "  cross_val = cross_val_score(modelName, x, y, cv=kfold).mean()\n",
        "  return cross_val"
      ],
      "execution_count": 16,
      "outputs": []
    },
    {
      "cell_type": "code",
      "metadata": {
        "colab": {
          "base_uri": "https://localhost:8080/"
        },
        "id": "KrxWCd_b_u4m",
        "outputId": "24057e09-d379-4f7b-aeed-24bd2161a66a"
      },
      "source": [
        "#Training and EValuating Models\n",
        "#Naive Bayes - Validation metrics\n",
        "\n",
        "naive_bayes_model = naive_bayes.MultinomialNB()\n",
        "naive_bayes_model.fit(train_x, train_y)\n",
        "naive_bayes_predictions_validation_data = naive_bayes_model.predict(valid_x)\n",
        "accuracy, precision, recall, f1 = get_metrics(naive_bayes_predictions_validation_data, valid_y)\n",
        "print(\"Accuracy is {0}\\nPrecision is {1}\\nRecall is {2}\\nF1 is {3}\".format(accuracy, precision, recall, f1))"
      ],
      "execution_count": 17,
      "outputs": [
        {
          "output_type": "stream",
          "text": [
            "Accuracy is 0.7725631768953068\n",
            "Precision is 0.7725631768953068\n",
            "Recall is 0.7725631768953068\n",
            "F1 is 0.7725631768953068\n"
          ],
          "name": "stdout"
        },
        {
          "output_type": "stream",
          "text": [
            "/usr/local/lib/python3.7/dist-packages/sklearn/metrics/_classification.py:1321: UserWarning: Note that pos_label (set to 'positive') is ignored when average != 'binary' (got 'micro'). You may use labels=[pos_label] to specify a single positive class.\n",
            "  % (pos_label, average), UserWarning)\n"
          ],
          "name": "stderr"
        }
      ]
    },
    {
      "cell_type": "code",
      "metadata": {
        "colab": {
          "base_uri": "https://localhost:8080/"
        },
        "id": "8knivzBgA3r4",
        "outputId": "4cfafa10-bebf-4854-f826-7849c5420d04"
      },
      "source": [
        "#Cross Validation Score\n",
        "nb_scores_mean = cross_validation_score(naive_bayes_model, valid_x, valid_y)\n",
        "print('Navie Bayes Cross Validation Score is {0}'.format(nb_scores_mean))\n"
      ],
      "execution_count": 18,
      "outputs": [
        {
          "output_type": "stream",
          "text": [
            "Navie Bayes Cross Validation Score is 0.720550516108852\n"
          ],
          "name": "stdout"
        }
      ]
    },
    {
      "cell_type": "code",
      "metadata": {
        "colab": {
          "base_uri": "https://localhost:8080/"
        },
        "id": "KwjBazQ4A3nt",
        "outputId": "dafe8294-a399-4ea7-fe18-7ddded625042"
      },
      "source": [
        "#Testing metrics\n",
        "\n",
        "naive_bayes_predictions_test_data = naive_bayes_model.predict(xtest)\n",
        "accuracy, precision, recall, f1 = get_metrics(naive_bayes_predictions_test_data, test_y)\n",
        "print(\"Accuracy is {0}\\nPrecision is {1}\\nRecall is {2}\\nF1 is {3}\".format(accuracy, precision, recall, f1))"
      ],
      "execution_count": 19,
      "outputs": [
        {
          "output_type": "stream",
          "text": [
            "Accuracy is 0.783205268935236\n",
            "Precision is 0.783205268935236\n",
            "Recall is 0.783205268935236\n",
            "F1 is 0.7832052689352361\n"
          ],
          "name": "stdout"
        },
        {
          "output_type": "stream",
          "text": [
            "/usr/local/lib/python3.7/dist-packages/sklearn/metrics/_classification.py:1321: UserWarning: Note that pos_label (set to 'positive') is ignored when average != 'binary' (got 'micro'). You may use labels=[pos_label] to specify a single positive class.\n",
            "  % (pos_label, average), UserWarning)\n"
          ],
          "name": "stderr"
        }
      ]
    },
    {
      "cell_type": "code",
      "metadata": {
        "colab": {
          "base_uri": "https://localhost:8080/"
        },
        "id": "pNhGLD3rA3ld",
        "outputId": "4e3dd5e8-55b1-4ed8-d599-d181fcbc73fc"
      },
      "source": [
        "#Cross Validation Score testing\n",
        "\n",
        "nb_test_scores_mean = cross_validation_score(naive_bayes_model, xtest, test_y)\n",
        "print('Navie Bayes Cross Validation Score is {0}'.format(nb_test_scores_mean))"
      ],
      "execution_count": 20,
      "outputs": [
        {
          "output_type": "stream",
          "text": [
            "Navie Bayes Cross Validation Score is 0.7371044256290158\n"
          ],
          "name": "stdout"
        }
      ]
    },
    {
      "cell_type": "code",
      "metadata": {
        "colab": {
          "base_uri": "https://localhost:8080/"
        },
        "id": "8pD5Ct8jA3gu",
        "outputId": "31d22523-e9ac-4b85-c4c6-0d5920ce586f"
      },
      "source": [
        "#SVM Validation Metrics\n",
        "\n",
        "svm_model = svm.SVC()\n",
        "svm_model.fit(train_x, train_y)\n",
        "svm_predictions_validation_data = svm_model.predict(valid_x)\n",
        "accuracy, precision, recall, f1 = get_metrics(svm_predictions_validation_data, valid_y)\n",
        "print(\"Accuracy is {0}\\nPrecision is {1}\\nRecall is {2}\\nF1 is {3}\".format(accuracy, precision, recall, f1))"
      ],
      "execution_count": 21,
      "outputs": [
        {
          "output_type": "stream",
          "text": [
            "Accuracy is 0.76028880866426\n",
            "Precision is 0.76028880866426\n",
            "Recall is 0.76028880866426\n",
            "F1 is 0.76028880866426\n"
          ],
          "name": "stdout"
        },
        {
          "output_type": "stream",
          "text": [
            "/usr/local/lib/python3.7/dist-packages/sklearn/metrics/_classification.py:1321: UserWarning: Note that pos_label (set to 'positive') is ignored when average != 'binary' (got 'micro'). You may use labels=[pos_label] to specify a single positive class.\n",
            "  % (pos_label, average), UserWarning)\n"
          ],
          "name": "stderr"
        }
      ]
    },
    {
      "cell_type": "code",
      "metadata": {
        "colab": {
          "base_uri": "https://localhost:8080/"
        },
        "id": "okZMbZd5A3ew",
        "outputId": "9db52a59-fe47-43ad-b047-1d51a1e41cf1"
      },
      "source": [
        "#Cross Validation Score\n",
        "svm_scores_mean = cross_validation_score(svm_model, valid_x, valid_y)\n",
        "print('SVM Cross Validation Score is {0}'.format(svm_scores_mean))"
      ],
      "execution_count": 22,
      "outputs": [
        {
          "output_type": "stream",
          "text": [
            "SVM Cross Validation Score is 0.6902408507976227\n"
          ],
          "name": "stdout"
        }
      ]
    },
    {
      "cell_type": "code",
      "metadata": {
        "colab": {
          "base_uri": "https://localhost:8080/"
        },
        "id": "uTHx-a5BA3Xk",
        "outputId": "b7f9c570-7237-4b80-d27e-e3865e378d19"
      },
      "source": [
        "#Testing Metrics\n",
        "svm_predictions_test_data = svm_model.predict(xtest)\n",
        "accuracy, precision, recall, f1 = get_metrics(svm_predictions_test_data, test_y)\n",
        "print(\"Accuracy is {0}\\nPrecision is {1}\\nRecall is {2}\\nF1 is {3}\".format(accuracy, precision, recall, f1))"
      ],
      "execution_count": 23,
      "outputs": [
        {
          "output_type": "stream",
          "text": [
            "Accuracy is 0.7837541163556532\n",
            "Precision is 0.7837541163556532\n",
            "Recall is 0.7837541163556532\n",
            "F1 is 0.7837541163556532\n"
          ],
          "name": "stdout"
        },
        {
          "output_type": "stream",
          "text": [
            "/usr/local/lib/python3.7/dist-packages/sklearn/metrics/_classification.py:1321: UserWarning: Note that pos_label (set to 'positive') is ignored when average != 'binary' (got 'micro'). You may use labels=[pos_label] to specify a single positive class.\n",
            "  % (pos_label, average), UserWarning)\n"
          ],
          "name": "stderr"
        }
      ]
    },
    {
      "cell_type": "code",
      "metadata": {
        "colab": {
          "base_uri": "https://localhost:8080/"
        },
        "id": "RQgE8frqByWf",
        "outputId": "b08db03f-e476-457a-dede-43349e9ef912"
      },
      "source": [
        "#Cross Validation Score Testing\n",
        "\n",
        "svm_test_scores_mean = cross_validation_score(svm_model, xtest, test_y)\n",
        "print('SVM Cross Validation Score is {0}'.format(svm_test_scores_mean))"
      ],
      "execution_count": 24,
      "outputs": [
        {
          "output_type": "stream",
          "text": [
            "SVM Cross Validation Score is 0.7239086050561461\n"
          ],
          "name": "stdout"
        }
      ]
    },
    {
      "cell_type": "code",
      "metadata": {
        "colab": {
          "base_uri": "https://localhost:8080/"
        },
        "id": "MOqqvODMByPV",
        "outputId": "803602d6-8093-4ea6-b40c-af0e06f394cc"
      },
      "source": [
        "#KNN Validation metrics\n",
        "from sklearn.neighbors import KNeighborsClassifier\n",
        "knn_model = KNeighborsClassifier(n_neighbors = 15)\n",
        "knn_model.fit(train_x, train_y)\n",
        "knn_predictions_valid_data = knn_model.predict(valid_x)\n",
        "accuracy, precision, recall, f1 = get_metrics(knn_predictions_valid_data, valid_y)\n",
        "print(\"Accuracy is {0}\\nPrecision is {1}\\nRecall is {2}\\nF1 is {3}\".format(accuracy, precision, recall, f1))"
      ],
      "execution_count": 25,
      "outputs": [
        {
          "output_type": "stream",
          "text": [
            "Accuracy is 0.7342960288808664\n",
            "Precision is 0.7342960288808664\n",
            "Recall is 0.7342960288808664\n",
            "F1 is 0.7342960288808665\n"
          ],
          "name": "stdout"
        },
        {
          "output_type": "stream",
          "text": [
            "/usr/local/lib/python3.7/dist-packages/sklearn/metrics/_classification.py:1321: UserWarning: Note that pos_label (set to 'positive') is ignored when average != 'binary' (got 'micro'). You may use labels=[pos_label] to specify a single positive class.\n",
            "  % (pos_label, average), UserWarning)\n"
          ],
          "name": "stderr"
        }
      ]
    },
    {
      "cell_type": "code",
      "metadata": {
        "colab": {
          "base_uri": "https://localhost:8080/"
        },
        "id": "5UyH3X2YByF6",
        "outputId": "767506c2-0e0c-499e-e160-992401a32960"
      },
      "source": [
        "#Cross Validation Score\n",
        "knn_scores_mean = cross_validation_score(knn_model, valid_x, valid_y)\n",
        "print('KNN Cross Validation Score is {0}'.format(knn_scores_mean))"
      ],
      "execution_count": 26,
      "outputs": [
        {
          "output_type": "stream",
          "text": [
            "KNN Cross Validation Score is 0.6888072150974873\n"
          ],
          "name": "stdout"
        }
      ]
    },
    {
      "cell_type": "code",
      "metadata": {
        "colab": {
          "base_uri": "https://localhost:8080/"
        },
        "id": "mgFiauiXCQpM",
        "outputId": "d2657114-9ec1-4995-cbcb-50fd696e8591"
      },
      "source": [
        "#Testing metrics\n",
        "knn_predictions_test_data = knn_model.predict(xtest)\n",
        "accuracy, precision, recall, f1 = get_metrics(knn_predictions_test_data, test_y)\n",
        "print(\"Accuracy is {0}\\nPrecision is {1}\\nRecall is {2}\\nF1 is {3}\".format(accuracy, precision, recall, f1))"
      ],
      "execution_count": 27,
      "outputs": [
        {
          "output_type": "stream",
          "text": [
            "Accuracy is 0.7458836443468716\n",
            "Precision is 0.7458836443468716\n",
            "Recall is 0.7458836443468716\n",
            "F1 is 0.7458836443468716\n"
          ],
          "name": "stdout"
        },
        {
          "output_type": "stream",
          "text": [
            "/usr/local/lib/python3.7/dist-packages/sklearn/metrics/_classification.py:1321: UserWarning: Note that pos_label (set to 'positive') is ignored when average != 'binary' (got 'micro'). You may use labels=[pos_label] to specify a single positive class.\n",
            "  % (pos_label, average), UserWarning)\n"
          ],
          "name": "stderr"
        }
      ]
    },
    {
      "cell_type": "code",
      "metadata": {
        "colab": {
          "base_uri": "https://localhost:8080/"
        },
        "id": "bOvoGIWiCQfU",
        "outputId": "5dd0625c-74c7-4702-a54f-39de32164bfe"
      },
      "source": [
        "#Cross Validation Score Testing\n",
        "knn_test_scores_mean = cross_validation_score(knn_model, xtest, test_y)\n",
        "print('KNN Cross Validation Score is {0}'.format(knn_test_scores_mean))"
      ],
      "execution_count": 28,
      "outputs": [
        {
          "output_type": "stream",
          "text": [
            "KNN Cross Validation Score is 0.6361376328589443\n"
          ],
          "name": "stdout"
        }
      ]
    },
    {
      "cell_type": "code",
      "metadata": {
        "colab": {
          "base_uri": "https://localhost:8080/"
        },
        "id": "1HS-joGXCQUR",
        "outputId": "654600f5-71fc-415e-9835-8028eeba6768"
      },
      "source": [
        "#Decision Tree Validation metrics\n",
        "\n",
        "from sklearn.tree import DecisionTreeClassifier\n",
        "dt_model = DecisionTreeClassifier()\n",
        "dt_model.fit(train_x, train_y)\n",
        "dt_predictions_valid_data = dt_model.predict(valid_x)\n",
        "accuracy, precision, recall, f1 = get_metrics(dt_predictions_valid_data, valid_y)\n",
        "print(\"Accuracy is {0}\\nPrecision is {1}\\nRecall is {2}\\nF1 is {3}\".format(accuracy, precision, recall, f1))"
      ],
      "execution_count": 29,
      "outputs": [
        {
          "output_type": "stream",
          "text": [
            "Accuracy is 0.6548736462093863\n",
            "Precision is 0.6548736462093863\n",
            "Recall is 0.6548736462093863\n",
            "F1 is 0.6548736462093863\n"
          ],
          "name": "stdout"
        },
        {
          "output_type": "stream",
          "text": [
            "/usr/local/lib/python3.7/dist-packages/sklearn/metrics/_classification.py:1321: UserWarning: Note that pos_label (set to 'positive') is ignored when average != 'binary' (got 'micro'). You may use labels=[pos_label] to specify a single positive class.\n",
            "  % (pos_label, average), UserWarning)\n"
          ],
          "name": "stderr"
        }
      ]
    },
    {
      "cell_type": "code",
      "metadata": {
        "colab": {
          "base_uri": "https://localhost:8080/"
        },
        "id": "YiBhSFW0Cwf3",
        "outputId": "33d6ca50-46f6-4268-9695-b9285be34adc"
      },
      "source": [
        "#Cross Validation Score\n",
        "dt_scores_mean = cross_validation_score(dt_model, valid_x, valid_y)\n",
        "print('Decision Tree Cross Validation Score is {0}'.format(dt_scores_mean))"
      ],
      "execution_count": 30,
      "outputs": [
        {
          "output_type": "stream",
          "text": [
            "Decision Tree Cross Validation Score is 0.5154676258992805\n"
          ],
          "name": "stdout"
        }
      ]
    },
    {
      "cell_type": "code",
      "metadata": {
        "colab": {
          "base_uri": "https://localhost:8080/"
        },
        "id": "SjH2DnFNCwdu",
        "outputId": "2af1bd71-a601-4a7c-e1d9-36bb387f1fbf"
      },
      "source": [
        "#Testing Metrics\n",
        "dt_predictions_test_data = dt_model.predict(xtest)\n",
        "accuracy, precision, recall, f1 = get_metrics(dt_predictions_test_data, test_y)\n",
        "print(\"Accuracy is {0}\\nPrecision is {1}\\nRecall is {2}\\nF1 is {3}\".format(accuracy, precision, recall, f1))"
      ],
      "execution_count": 31,
      "outputs": [
        {
          "output_type": "stream",
          "text": [
            "Accuracy is 0.6443468715697036\n",
            "Precision is 0.6443468715697036\n",
            "Recall is 0.6443468715697036\n",
            "F1 is 0.6443468715697036\n"
          ],
          "name": "stdout"
        },
        {
          "output_type": "stream",
          "text": [
            "/usr/local/lib/python3.7/dist-packages/sklearn/metrics/_classification.py:1321: UserWarning: Note that pos_label (set to 'positive') is ignored when average != 'binary' (got 'micro'). You may use labels=[pos_label] to specify a single positive class.\n",
            "  % (pos_label, average), UserWarning)\n"
          ],
          "name": "stderr"
        }
      ]
    },
    {
      "cell_type": "code",
      "metadata": {
        "colab": {
          "base_uri": "https://localhost:8080/"
        },
        "id": "gn4rQp4fCwZP",
        "outputId": "b027c298-72e7-4926-d2a1-4f3e52552944"
      },
      "source": [
        "#Cross Validation Score testing\n",
        "dt_test_scores_mean = cross_validation_score(dt_model, xtest, test_y)\n",
        "print('Decision Tree Cross Validation Score is {0}'.format(dt_test_scores_mean))\n"
      ],
      "execution_count": 32,
      "outputs": [
        {
          "output_type": "stream",
          "text": [
            "Decision Tree Cross Validation Score is 0.6262084909625892\n"
          ],
          "name": "stdout"
        }
      ]
    },
    {
      "cell_type": "code",
      "metadata": {
        "colab": {
          "base_uri": "https://localhost:8080/"
        },
        "id": "O-iaa7ZiCwW_",
        "outputId": "5dcbd900-90d5-406f-91a8-d45514e6206b"
      },
      "source": [
        "#Random Forest - Validation Metrics\n",
        "\n",
        "from sklearn.ensemble import RandomForestClassifier\n",
        "rf_model = RandomForestClassifier()\n",
        "rf_model.fit(train_x, train_y)\n",
        "rf_predictions_valid_data = rf_model.predict(valid_x)\n",
        "accuracy, precision, recall, f1 = get_metrics(rf_predictions_valid_data, valid_y)\n",
        "print(\"Accuracy is {0}\\nPrecision is {1}\\nRecall is {2}\\nF1 is {3}\".format(accuracy, precision, recall, f1))"
      ],
      "execution_count": 33,
      "outputs": [
        {
          "output_type": "stream",
          "text": [
            "Accuracy is 0.7371841155234657\n",
            "Precision is 0.7371841155234657\n",
            "Recall is 0.7371841155234657\n",
            "F1 is 0.7371841155234657\n"
          ],
          "name": "stdout"
        },
        {
          "output_type": "stream",
          "text": [
            "/usr/local/lib/python3.7/dist-packages/sklearn/metrics/_classification.py:1321: UserWarning: Note that pos_label (set to 'positive') is ignored when average != 'binary' (got 'micro'). You may use labels=[pos_label] to specify a single positive class.\n",
            "  % (pos_label, average), UserWarning)\n"
          ],
          "name": "stderr"
        }
      ]
    },
    {
      "cell_type": "code",
      "metadata": {
        "colab": {
          "base_uri": "https://localhost:8080/"
        },
        "id": "_M-VEARMCwR7",
        "outputId": "a80ecdc8-516c-453c-a980-cf02eacc4825"
      },
      "source": [
        "#Cross Validation Score\n",
        "\n",
        "rf_scores_mean = cross_validation_score(rf_model, valid_x, valid_y)\n",
        "print('Random Forest Cross Validation Score is {0}'.format(rf_scores_mean))"
      ],
      "execution_count": 34,
      "outputs": [
        {
          "output_type": "stream",
          "text": [
            "Random Forest Cross Validation Score is 0.6570326347617558\n"
          ],
          "name": "stdout"
        }
      ]
    },
    {
      "cell_type": "code",
      "metadata": {
        "colab": {
          "base_uri": "https://localhost:8080/"
        },
        "id": "57SK_iQXCwQB",
        "outputId": "6dcdbee7-3618-4629-f0b5-b7b9b44b8712"
      },
      "source": [
        "#Testing Metrics\n",
        "rf_predictions_test_data = rf_model.predict(xtest)\n",
        "accuracy, precision, recall, f1 = get_metrics(rf_predictions_test_data, test_y)\n",
        "print(\"Accuracy is {0}\\nPrecision is {1}\\nRecall is {2}\\nF1 is {3}\".format(accuracy, precision, recall, f1))"
      ],
      "execution_count": 35,
      "outputs": [
        {
          "output_type": "stream",
          "text": [
            "Accuracy is 0.7316136114160263\n",
            "Precision is 0.7316136114160263\n",
            "Recall is 0.7316136114160263\n",
            "F1 is 0.7316136114160263\n"
          ],
          "name": "stdout"
        },
        {
          "output_type": "stream",
          "text": [
            "/usr/local/lib/python3.7/dist-packages/sklearn/metrics/_classification.py:1321: UserWarning: Note that pos_label (set to 'positive') is ignored when average != 'binary' (got 'micro'). You may use labels=[pos_label] to specify a single positive class.\n",
            "  % (pos_label, average), UserWarning)\n"
          ],
          "name": "stderr"
        }
      ]
    },
    {
      "cell_type": "code",
      "metadata": {
        "colab": {
          "base_uri": "https://localhost:8080/"
        },
        "id": "89tKn1k5CwGN",
        "outputId": "21cbb9b6-9810-4103-ec81-0035d84c7770"
      },
      "source": [
        "#Cross Validation Score testing\n",
        "\n",
        "rf_test_scores_mean = cross_validation_score(rf_model, xtest, test_y)\n",
        "print('Random Forest Cross Validation Score is {0}'.format(rf_test_scores_mean))"
      ],
      "execution_count": 36,
      "outputs": [
        {
          "output_type": "stream",
          "text": [
            "Random Forest Cross Validation Score is 0.6668468143877979\n"
          ],
          "name": "stdout"
        }
      ]
    },
    {
      "cell_type": "code",
      "metadata": {
        "colab": {
          "base_uri": "https://localhost:8080/"
        },
        "id": "OpoCRfKXDGtA",
        "outputId": "e5cb04a8-b6f8-4d20-a47c-f0bf63662be1"
      },
      "source": [
        "#XG Boost - Validation Metrics\n",
        "\n",
        "from xgboost import XGBClassifier\n",
        "xg_model = XGBClassifier()\n",
        "xg_model.fit(train_x, train_y)\n",
        "xg_predictions_valid_data = xg_model.predict(valid_x)\n",
        "accuracy, precision, recall, f1 = get_metrics(xg_predictions_valid_data, valid_y)\n",
        "print(\"Accuracy is {0}\\nPrecision is {1}\\nRecall is {2}\\nF1 is {3}\".format(accuracy, precision, recall, f1))"
      ],
      "execution_count": 37,
      "outputs": [
        {
          "output_type": "stream",
          "text": [
            "Accuracy is 0.6447653429602888\n",
            "Precision is 0.6447653429602888\n",
            "Recall is 0.6447653429602888\n",
            "F1 is 0.6447653429602888\n"
          ],
          "name": "stdout"
        },
        {
          "output_type": "stream",
          "text": [
            "/usr/local/lib/python3.7/dist-packages/sklearn/metrics/_classification.py:1321: UserWarning: Note that pos_label (set to 'positive') is ignored when average != 'binary' (got 'micro'). You may use labels=[pos_label] to specify a single positive class.\n",
            "  % (pos_label, average), UserWarning)\n"
          ],
          "name": "stderr"
        }
      ]
    },
    {
      "cell_type": "code",
      "metadata": {
        "colab": {
          "base_uri": "https://localhost:8080/"
        },
        "id": "AFa_a3oGDGol",
        "outputId": "d81a47e2-240a-4028-db3a-4573f27c7c97"
      },
      "source": [
        "#Cross Validation Score\n",
        "\n",
        "xg_scores_mean = cross_validation_score(XGBClassifier(), valid_x, valid_y)\n",
        "print('XG Boost Cross Validation Score is {0}'.format(xg_scores_mean))"
      ],
      "execution_count": 38,
      "outputs": [
        {
          "output_type": "stream",
          "text": [
            "XG Boost Cross Validation Score is 0.6014284224794079\n"
          ],
          "name": "stdout"
        }
      ]
    },
    {
      "cell_type": "code",
      "metadata": {
        "colab": {
          "base_uri": "https://localhost:8080/"
        },
        "id": "YJoMpE8xDGiL",
        "outputId": "87c4c2da-85f3-4ce0-c97c-cc7d0a405541"
      },
      "source": [
        "#Testing Metrics\n",
        "xg_predictions_test_data = xg_model.predict(xtest)\n",
        "accuracy, precision, recall, f1 = get_metrics(xg_predictions_test_data, test_y)\n",
        "print(\"Accuracy is {0}\\nPrecision is {1}\\nRecall is {2}\\nF1 is {3}\".format(accuracy, precision, recall, f1))"
      ],
      "execution_count": 39,
      "outputs": [
        {
          "output_type": "stream",
          "text": [
            "Accuracy is 0.6410537870472008\n",
            "Precision is 0.6410537870472008\n",
            "Recall is 0.6410537870472008\n",
            "F1 is 0.6410537870472008\n"
          ],
          "name": "stdout"
        },
        {
          "output_type": "stream",
          "text": [
            "/usr/local/lib/python3.7/dist-packages/sklearn/metrics/_classification.py:1321: UserWarning: Note that pos_label (set to 'positive') is ignored when average != 'binary' (got 'micro'). You may use labels=[pos_label] to specify a single positive class.\n",
            "  % (pos_label, average), UserWarning)\n"
          ],
          "name": "stderr"
        }
      ]
    },
    {
      "cell_type": "code",
      "metadata": {
        "colab": {
          "base_uri": "https://localhost:8080/"
        },
        "id": "GjjXDrKwDQcx",
        "outputId": "92d352a1-53a4-4264-9423-3475e22486be"
      },
      "source": [
        "#Cross Validation Score testing\n",
        "\n",
        "\n",
        "xg_test_scores_mean = cross_validation_score(XGBClassifier(), xtest, test_y)\n",
        "print('XG Boost Cross Validation Score is {0}'.format(xg_test_scores_mean))"
      ],
      "execution_count": 40,
      "outputs": [
        {
          "output_type": "stream",
          "text": [
            "XG Boost Cross Validation Score is 0.6251035849396506\n"
          ],
          "name": "stdout"
        }
      ]
    },
    {
      "cell_type": "markdown",
      "metadata": {
        "id": "gyO1ocH2DfGI"
      },
      "source": [
        "#Accuracies of the models with test data:\n",
        "\n",
        "Naive Bayes 78.86%, SVM 78.70%, KNN 72.94%, Decision Tree 65.14%, Random Forest 74.14%, XG Boost 64.92%"
      ]
    }
  ]
}