{
  "nbformat": 4,
  "nbformat_minor": 0,
  "metadata": {
    "colab": {
      "name": " Rubab In_class_exercise_01.ipynb",
      "provenance": [],
      "collapsed_sections": [],
      "include_colab_link": true
    },
    "kernelspec": {
      "display_name": "Python 3",
      "language": "python",
      "name": "python3"
    },
    "language_info": {
      "codemirror_mode": {
        "name": "ipython",
        "version": 3
      },
      "file_extension": ".py",
      "mimetype": "text/x-python",
      "name": "python",
      "nbconvert_exporter": "python",
      "pygments_lexer": "ipython3",
      "version": "3.7.4"
    }
  },
  "cells": [
    {
      "cell_type": "markdown",
      "metadata": {
        "id": "view-in-github",
        "colab_type": "text"
      },
      "source": [
        "<a href=\"https://colab.research.google.com/github/rubabshz/Rubab_INFO5731_Spring2020/blob/main/Rubab_In_class_exercise_01.ipynb\" target=\"_parent\"><img src=\"https://colab.research.google.com/assets/colab-badge.svg\" alt=\"Open In Colab\"/></a>"
      ]
    },
    {
      "cell_type": "markdown",
      "metadata": {
        "id": "DymRJbxDBCnf"
      },
      "source": [
        "# **The first In-class-exercise (1/19/2021, 20 points in total)**"
      ]
    },
    {
      "cell_type": "markdown",
      "metadata": {
        "id": "03jb4GZsBkBS"
      },
      "source": [
        "(1) Write a Python program to calculate the length of a string. (2 points)"
      ]
    },
    {
      "cell_type": "code",
      "metadata": {
        "id": "YaGLbSHHB8Ej",
        "colab": {
          "base_uri": "https://localhost:8080/"
        },
        "outputId": "36be11f1-dee7-4a25-85d5-79a9b7eb462c"
      },
      "source": [
        "# write your answer here\n",
        "x = \"This is a sample string\"\n",
        "print(len(x))\n"
      ],
      "execution_count": null,
      "outputs": [
        {
          "output_type": "stream",
          "text": [
            "23\n"
          ],
          "name": "stdout"
        }
      ]
    },
    {
      "cell_type": "markdown",
      "metadata": {
        "id": "jJDe71iLB616"
      },
      "source": [
        "(2) Write a Python program to count the number of characters in a string. (2 points)\n",
        "\n",
        "Sample String : 'google.com‘, \n",
        "\n",
        "Expected Result : {'o': 3, 'g': 2, '.': 1, 'e': 1, 'l': 1, 'm': 1, 'c': 1}"
      ]
    },
    {
      "cell_type": "code",
      "metadata": {
        "id": "MtKskTzbCLaU",
        "colab": {
          "base_uri": "https://localhost:8080/"
        },
        "outputId": "5e76d497-2d0a-47b9-8f54-a36689753c99"
      },
      "source": [
        "# write your answer here\n",
        "\n",
        "#b = print((char_frequency('google.com')))\n",
        "#OR\n",
        "\n",
        "from collections import Counter \n",
        "\n",
        "string = \"google.com\"\n",
        "result = Counter(string) \n",
        "print(result)\n",
        "\n"
      ],
      "execution_count": null,
      "outputs": [
        {
          "output_type": "stream",
          "text": [
            "Counter({'o': 3, 'g': 2, 'l': 1, 'e': 1, '.': 1, 'c': 1, 'm': 1})\n"
          ],
          "name": "stdout"
        }
      ]
    },
    {
      "cell_type": "markdown",
      "metadata": {
        "id": "55W9AMdXCSpV"
      },
      "source": [
        "(3) Write a Python program to sum all the items in a list. (2 points)"
      ]
    },
    {
      "cell_type": "code",
      "metadata": {
        "id": "I57NXsauCec2",
        "colab": {
          "base_uri": "https://localhost:8080/"
        },
        "outputId": "7615cf74-9800-4335-ad76-ee77a1dee5d4"
      },
      "source": [
        "# write your answer here\n",
        "def sum_of_list(items):\n",
        "  sum = 0\n",
        "  for n in items:\n",
        "   sum += n\n",
        "  return sum\n",
        "print(sum_of_list([1, 2, 3, 4, 5, 6, -2]))"
      ],
      "execution_count": null,
      "outputs": [
        {
          "output_type": "stream",
          "text": [
            "19\n"
          ],
          "name": "stdout"
        }
      ]
    },
    {
      "cell_type": "markdown",
      "metadata": {
        "id": "4ulBZ6yhCi9F"
      },
      "source": [
        "(4) Write a Python program to get a string from a given string where all occurrences of its first char have been changed to '\\$', except the first char itself. (2 points)\n",
        "\n",
        "Sample String : 'restart‘, \n",
        "\n",
        "Expected Result : 'resta\\$t'"
      ]
    },
    {
      "cell_type": "code",
      "metadata": {
        "id": "Fj0XhwbBCw2o",
        "colab": {
          "base_uri": "https://localhost:8080/"
        },
        "outputId": "18cc4fd6-52cb-4be3-b597-4d3de3dd2161"
      },
      "source": [
        "# write your answer here\n",
        "def new_String(sampleStr):\n",
        "  char = sampleStr[0]\n",
        "  sampleStr = sampleStr.replace(char, '$')\n",
        "  sampleStr = char + sampleStr[1:]\n",
        "  return sampleStr\n",
        "\n",
        "print(new_String('restart'))"
      ],
      "execution_count": null,
      "outputs": [
        {
          "output_type": "stream",
          "text": [
            "resta$t\n"
          ],
          "name": "stdout"
        }
      ]
    },
    {
      "cell_type": "markdown",
      "metadata": {
        "id": "_bIP7s1MCzue"
      },
      "source": [
        "(5) Write a program with python which could accept two parameter a and b to calculate and output the result of S, where \n",
        "\n",
        "$\\ S=3.14*(1+a/b)^3$ (3 points)\n",
        "\n"
      ]
    },
    {
      "cell_type": "code",
      "metadata": {
        "id": "w79QilHXD3Mg",
        "colab": {
          "base_uri": "https://localhost:8080/"
        },
        "outputId": "dffcca31-8769-42d7-8721-c385cff2c492"
      },
      "source": [
        "# write your answer here\n",
        "def error(error_desc):\n",
        "      print(error_desc)\n",
        "      \n",
        "def S_formula(a,b):\n",
        "  if b ==0:\n",
        "    error(\"Zero Division Error\") \n",
        "  s = 3.14*(1 + a/b)**3\n",
        "  return s\n",
        "      \n",
        "par_a= int(input(\"Enter value of a: \"))\n",
        "par_b = int(input(\"Enter value of b: \"))\n",
        "\n",
        "print('Expected value: ', S_formula(par_a,par_b))"
      ],
      "execution_count": 124,
      "outputs": [
        {
          "output_type": "stream",
          "text": [
            "Enter value of a: 12\n",
            "Enter value of b: 4\n",
            "Expected value:  200.96\n"
          ],
          "name": "stdout"
        }
      ]
    },
    {
      "cell_type": "markdown",
      "metadata": {
        "id": "xCa2bK9aD4Q3"
      },
      "source": [
        "(6) Write a Python program to concatenate following dictionaries to create a new one. (3 points)\n",
        "\n",
        "Sample Dictionary : dic1={1:10, 2:20}, dic2={3:30, 4:40}, dic3={5:50,6:60}, \n",
        "\n",
        "Expected Result : {1: 10, 2: 20, 3: 30, 4: 40, 5: 50, 6: 60}\n"
      ]
    },
    {
      "cell_type": "code",
      "metadata": {
        "id": "_z4aLqAbEET1",
        "colab": {
          "base_uri": "https://localhost:8080/"
        },
        "outputId": "aaaf2788-0731-4f2f-dd2e-a977033fd94c"
      },
      "source": [
        "# write your answer here\n",
        "dic1 = {1:10, 2:20}\n",
        "dic2 = {3:30, 4:40}\n",
        "dic3 = {5:50, 6:60}\n",
        "dic4 = {}\n",
        "for a in (dic1,dic2, dic3): dic4.update(a)\n",
        "print(dic4)"
      ],
      "execution_count": null,
      "outputs": [
        {
          "output_type": "stream",
          "text": [
            "{1: 10, 2: 20, 3: 30, 4: 40, 5: 50, 6: 60}\n"
          ],
          "name": "stdout"
        }
      ]
    },
    {
      "cell_type": "markdown",
      "metadata": {
        "id": "0v48Vqa7FrQh"
      },
      "source": [
        "(7) Write a Python program to check whether an element exists within a tuple. (3 points)"
      ]
    },
    {
      "cell_type": "code",
      "metadata": {
        "id": "7WEmgq-DF2P1",
        "colab": {
          "base_uri": "https://localhost:8080/"
        },
        "outputId": "2b959f05-b139-48f3-84e9-c8c19a0e11ce"
      },
      "source": [
        "# write your answer here\n",
        "Tuple_X = (1, 2, 3, 4)\n",
        "print('X' in Tuple_X)\n",
        "print(2 in Tuple_X)"
      ],
      "execution_count": 125,
      "outputs": [
        {
          "output_type": "stream",
          "text": [
            "False\n",
            "True\n"
          ],
          "name": "stdout"
        }
      ]
    },
    {
      "cell_type": "markdown",
      "metadata": {
        "id": "vD5PYLMuGga_"
      },
      "source": [
        "(8) Write a Python program to find maximum and the minimum value in a set. (3 points)"
      ]
    },
    {
      "cell_type": "code",
      "metadata": {
        "id": "t0D5kdJUGjjw",
        "colab": {
          "base_uri": "https://localhost:8080/"
        },
        "outputId": "d5197e88-5a6c-4a01-9577-151684f9a709"
      },
      "source": [
        "# write your answer here\n",
        "randomSet = {4,70,54,12,43,76,45,98}\n",
        "maxNumber = max(randomSet)\n",
        "minNumber = min(randomSet)\n",
        "print('Maximum: ', maxNumber)\n",
        "print('Minimum: ', minNumber)"
      ],
      "execution_count": 108,
      "outputs": [
        {
          "output_type": "stream",
          "text": [
            "Maximum:  98\n",
            "Minimum:  4\n"
          ],
          "name": "stdout"
        }
      ]
    },
    {
      "cell_type": "markdown",
      "metadata": {
        "id": "uHkd-y5VhVWC"
      },
      "source": [
        "(9) Write a Python program to randomly divide the students in this class into five groups for term projects, each group should have at least 3 students but no more than 5 students (including 5). Here is the students list: (3 points for extra)\n",
        "\n",
        "studnet_list = ['vmb0067','pc0353','snd0097','yye0005','sg0940','bk0301','rak0120','rrk0058','spk0057','vl0135','nm0547','pn0159',\n",
        "                'msp0174','dd0420','ds0761','rs0850','ss1995','at0739','at0768','mv0299','tv0119','dy0091']"
      ]
    },
    {
      "cell_type": "code",
      "metadata": {
        "id": "3iGbmcOBhTwy",
        "colab": {
          "base_uri": "https://localhost:8080/"
        },
        "outputId": "2a2e5f4a-5a70-4d9f-8480-5f75adb0dd8a"
      },
      "source": [
        "# write your answer here\n",
        "import random\n",
        "student_list = ['vmb0067','pc0353','snd0097','yye0005','sg0940','bk0301','rak0120','rrk0058','spk0057','vl0135','nm0547','pn0159', \n",
        "                'msp0174','dd0420','ds0761','rs0850','ss1995','at0739','at0768','mv0299','tv0119','dy0091']\n",
        "t_groups = []\n",
        "for i in range(5):\n",
        " t_groups.append(random.randint(3,5))\n",
        "for j in range(5):\n",
        " sample_stds = random.sample(student_list,t_groups[j-1])\n",
        " student_list = [j for j in student_list if j not in sample_stds]\n",
        " print(\"Group \" +str(j+1)+\": \", sample_stds)"
      ],
      "execution_count": 123,
      "outputs": [
        {
          "output_type": "stream",
          "text": [
            "Group 1:  ['rrk0058', 'at0768', 'snd0097', 'ss1995']\n",
            "Group 2:  ['msp0174', 'vmb0067', 'sg0940', 'tv0119', 'rs0850']\n",
            "Group 3:  ['ds0761', 'nm0547', 'pn0159', 'pc0353']\n",
            "Group 4:  ['at0739', 'dy0091', 'bk0301']\n",
            "Group 5:  ['dd0420', 'spk0057', 'mv0299', 'yye0005', 'vl0135']\n"
          ],
          "name": "stdout"
        }
      ]
    }
  ]
}