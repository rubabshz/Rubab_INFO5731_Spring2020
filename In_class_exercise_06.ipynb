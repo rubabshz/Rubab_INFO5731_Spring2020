{
 "cells": [
  {
   "cell_type": "markdown",
   "metadata": {
    "colab_type": "text",
    "id": "view-in-github"
   },
   "source": [
    "<a href=\"https://colab.research.google.com/github/unt-iialab/INFO5731_Spring2020/blob/master/In_class_exercise/In_class_exercise_05.ipynb\" target=\"_parent\"><img src=\"https://colab.research.google.com/assets/colab-badge.svg\" alt=\"Open In Colab\"/></a>"
   ]
  },
  {
   "cell_type": "markdown",
   "metadata": {
    "colab_type": "text",
    "id": "z7TahL04sVvR"
   },
   "source": [
    "# **The sixth in-class-exercise (20 points in total, 3/2/2021)**"
   ]
  },
  {
   "cell_type": "markdown",
   "metadata": {
    "colab_type": "text",
    "id": "ejyZITr8sjnh"
   },
   "source": [
    "## **1. Rule-based information extraction (10 points)**\n",
    "\n",
    "Use any keywords related to data science, natural language processing, machine learning to search from google scholar, get the **titles** of 100 articles (either by web scraping or manually) about this topic, define a set of patterns to extract the research questions/problems, methods/algorithms/models, datasets, applications, or any other important information about this topic. "
   ]
  },
  {
   "cell_type": "code",
   "execution_count": 0,
   "metadata": {
    "colab": {},
    "colab_type": "code",
    "id": "XvR_O9D8sOUY"
   },
   "outputs": [],
   "source": [
    "# Write your code here"
   ]
  },
  {
   "cell_type": "markdown",
   "metadata": {
    "colab_type": "text",
    "id": "Dq_7VGmrsum4"
   },
   "source": [
    "## **2. Domain-specific information extraction (10 points)**\n",
    "\n",
    "For the legal case used in the data cleaning exercise: [01-05-1 Adams v Tanner.txt](https://raw.githubusercontent.com/unt-iialab/info5731_spring2021/main/class_exercises/01-05-1%20%20Adams%20v%20Tanner.txt), use [legalNLP](https://lexpredict-lexnlp.readthedocs.io/en/latest/modules/extract/extract.html#nlp-based-extraction-methods) to extract the following inforation from the text (if the information is not exist, just print None):\n",
    "\n",
    "(1) acts, e.g., “section 1 of the Advancing Hope Act, 1986”\n",
    "\n",
    "(2) amounts, e.g., “ten pounds” or “5.8 megawatts”\n",
    "\n",
    "(3) citations, e.g., “10 U.S. 100” or “1998 S. Ct. 1”\n",
    "\n",
    "(4) companies, e.g., “Lexpredict LLC”\n",
    "\n",
    "(5) conditions, e.g., “subject to …” or “unless and until …”\n",
    "\n",
    "(6) constraints, e.g., “no more than”\n",
    "\n",
    "(7) copyright, e.g., “(C) Copyright 2000 Acme”\n",
    "\n",
    "(8) courts, e.g., “Supreme Court of New York”\n",
    "\n",
    "(9) CUSIP, e.g., “392690QT3”\n",
    "\n",
    "(10) dates, e.g., “June 1, 2017” or “2018-01-01”\n",
    "\n",
    "(11) definitions, e.g., “Term shall mean …”\n",
    "\n",
    "(12) distances, e.g., “fifteen miles”\n",
    "\n",
    "(13) durations, e.g., “ten years” or “thirty days”\n",
    "\n",
    "(14) geographic and geopolitical entities, e.g., “New York” or “Norway”\n",
    "\n",
    "(15) money and currency usages, e.g., “$5” or “10 Euro”\n",
    "\n",
    "(16) percents and rates, e.g., “10%” or “50 bps”\n",
    "\n",
    "(17) PII, e.g., “212-212-2121” or “999-999-9999”\n",
    "\n",
    "(18) ratios, e.g.,” 3:1” or “four to three”\n",
    "\n",
    "(19) regulations, e.g., “32 CFR 170”\n",
    "\n",
    "(20) trademarks, e.g., “MyApp (TM)”\n",
    "\n",
    "(21) URLs, e.g., “http://acme.com/”\n",
    "\n",
    "(22) addresses, e.g., “1999 Mount Read Blvd, Rochester, NY, USA, 14615”\n",
    "\n",
    "(23) persons, e.g., “John Doe"
   ]
  },
  {
   "cell_type": "code",
   "execution_count": 0,
   "metadata": {
    "colab": {},
    "colab_type": "code",
    "id": "qc7NtJrLx5tS"
   },
   "outputs": [],
   "source": [
    "# write your code here"
   ]
  }
 ],
 "metadata": {
  "colab": {
   "authorship_tag": "ABX9TyOAs8kIQ1wq7/rcR1WavISL",
   "collapsed_sections": [],
   "include_colab_link": true,
   "name": "In_class_exercise_05.ipynb",
   "provenance": []
  },
  "kernelspec": {
   "display_name": "Python 3",
   "language": "python",
   "name": "python3"
  },
  "language_info": {
   "codemirror_mode": {
    "name": "ipython",
    "version": 3
   },
   "file_extension": ".py",
   "mimetype": "text/x-python",
   "name": "python",
   "nbconvert_exporter": "python",
   "pygments_lexer": "ipython3",
   "version": "3.8.5"
  }
 },
 "nbformat": 4,
 "nbformat_minor": 1
}
